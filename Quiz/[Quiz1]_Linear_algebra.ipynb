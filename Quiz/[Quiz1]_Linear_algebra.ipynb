{
  "nbformat": 4,
  "nbformat_minor": 0,
  "metadata": {
    "colab": {
      "name": "[Quiz1] Linear algebra",
      "provenance": [],
      "collapsed_sections": [],
      "include_colab_link": true
    },
    "kernelspec": {
      "name": "python3",
      "display_name": "Python 3"
    },
    "language_info": {
      "name": "python"
    }
  },
  "cells": [
    {
      "cell_type": "markdown",
      "metadata": {
        "id": "view-in-github",
        "colab_type": "text"
      },
      "source": [
        "<a href=\"https://colab.research.google.com/github/SYEON9/natural_language_3th/blob/main/Quiz/%5BQuiz1%5D_Linear_algebra.ipynb\" target=\"_parent\"><img src=\"https://colab.research.google.com/assets/colab-badge.svg\" alt=\"Open In Colab\"/></a>"
      ]
    },
    {
      "cell_type": "markdown",
      "metadata": {
        "id": "7UDJgH77FkFV"
      },
      "source": [
        "# Linear Algebra Quiz1\n",
        "\n",
        "> 해당 퀴즈에서는 강의에서 직접적으로 다루지 않은 문제들도 포함되어 있습니다. 성취도 확인용으로 진행되는 시험이니 한 주 동안 배운 내용을 복습하고 새로운 문제들을 공부하는 데 의미를 두시면 좋을 것 같습니다. 계산이 필요할 경우 손으로 계산하셔도 되고, 각자 colab을 켜서 numpy 등의 package를 사용하셔도 됩니다."
      ]
    },
    {
      "cell_type": "markdown",
      "metadata": {
        "id": "OytW8x6ZGNWg"
      },
      "source": [
        "## 다음 명제에 대해, True/False를 판단하시오. True일 경우 간략하게 이유를 서술하고, False일 경우 간략하게 이유를 설명하거나 반례를 드시오.\n",
        "\n",
        "\\\\\n",
        "\n",
        "행렬 $A,B$에 대해\n",
        "\n",
        "\\\\\n",
        "\n",
        "1. $A$와 $B$가 invertible 하다면, $(AB)^{-1} = A^{-1}B^{-1}$이 성립한다. \\\\\n",
        "\n"
      ]
    },
    {
      "cell_type": "markdown",
      "metadata": {
        "id": "87k24axTLS-D"
      },
      "source": [
        "A: False. 반례는 아래에 제시한다.\n",
        "\n",
        "---\n",
        "\n"
      ]
    },
    {
      "cell_type": "code",
      "source": [
        "import numpy as np\n",
        "\n",
        "a = np.array([[1,2],[3,4]])\n",
        "b = np.array([[2,3],[4,5]])\n",
        "a_inv = np.linalg.inv(a)\n",
        "b_inv = np.linalg.inv(b)\n",
        "\n",
        "ab_inv = np.linalg.inv(a@b)\n",
        "print(ab_inv)\n",
        "print(a_inv@b_inv)\n",
        "print(ab_inv == a_inv@b_inv)"
      ],
      "metadata": {
        "id": "lk92SYEVHsiX",
        "colab": {
          "base_uri": "https://localhost:8080/"
        },
        "outputId": "ab855a0e-9cdd-4932-bc3b-2bd948c4a5b8"
      },
      "execution_count": null,
      "outputs": [
        {
          "output_type": "stream",
          "name": "stdout",
          "text": [
            "[[ 7.25 -3.25]\n",
            " [-5.5   2.5 ]]\n",
            "[[ 7.   -4.  ]\n",
            " [-4.75  2.75]]\n",
            "[[False False]\n",
            " [False False]]\n"
          ]
        }
      ]
    },
    {
      "cell_type": "markdown",
      "metadata": {
        "id": "sKeXz3edLNgq"
      },
      "source": [
        "2. $\\begin{bmatrix} 1 & 1 \\\\ 0 & 1 \\\\ 0 & 0 \\end{bmatrix} \\begin{bmatrix}x1\\\\x2\\end{bmatrix} = \\begin{bmatrix} 3 \\\\ 1 \\\\ 0\\end{bmatrix}$는 해가 존재한다. \\\\"
      ]
    },
    {
      "cell_type": "markdown",
      "metadata": {
        "id": "MJSRde5dLSes"
      },
      "source": [
        "A: True. 위 행렬은 Ax = b라고 볼 수 있는데 우리가 구하고자 하는 해는 x이다. 여기서 문제가 되는 것은 x보다 A와b의 행이 더 많다는 것이다. 그런데 그 중 한 행이 A와 b모두 0이므로 0*x = 0이 된다. 그러므로 조건으로 볼 수 없다. 이 것을 제외하고 나면 x를 특정지을 수 있으므로 해가 존재한다. \n",
        "\n",
        "---\n",
        "\n"
      ]
    },
    {
      "cell_type": "markdown",
      "metadata": {
        "id": "QiMjE83JLPCI"
      },
      "source": [
        "3. $\\begin{bmatrix} 1 & 1 \\\\ 0 & 1 \\\\ 0 & 0 \\end{bmatrix} \\begin{bmatrix}x1\\\\x2\\end{bmatrix} = \\begin{bmatrix} 3 \\\\ 1 \\\\ 1\\end{bmatrix}$은 해가 존재한다. \\\\\n"
      ]
    },
    {
      "cell_type": "markdown",
      "metadata": {
        "id": "PJ504uRwLSJ7"
      },
      "source": [
        "A: 해가 존재하지 않는다. 위 식은 Ax = b라고 표현할 수 있는데 그 중 하나의 식이 0*x1 + 0*x2 = 1이된다. 이 식은 성립할 수 없으므로 위 식의 해는 존재하지 않는다. \n",
        "\n",
        "---\n",
        "\n"
      ]
    },
    {
      "cell_type": "markdown",
      "metadata": {
        "id": "hDaT_j6BKIYo"
      },
      "source": [
        "4. $\\begin{bmatrix} 3 & 2 \\\\ 5 & 1 \\\\ 0 & 0 \\end{bmatrix}$의 column space는 span($\\{ \\begin{bmatrix} 1 \\\\ 0 \\\\ 0\\end{bmatrix}, \\begin{bmatrix} 0 \\\\ 1 \\\\ 0\\end{bmatrix}\\}$)과 같다. \\\\"
      ]
    },
    {
      "cell_type": "markdown",
      "metadata": {
        "id": "KSjmyiTBLVMJ"
      },
      "source": [
        "A: True. span의 벡터를 살펴보면 이 span은 x축과 y축을 전부 덮은 평면인 것을 알 수 있다. [[3,5,0],[2,1,0]] 또한 z축이 0이므로 x,y축을 덮는 다는 것을 알 수 있다. 그러므로 이 주장은 참이다. \n",
        "\n",
        "\n",
        "---\n",
        "\n"
      ]
    },
    {
      "cell_type": "markdown",
      "metadata": {
        "id": "6iNk1_IiLVoS"
      },
      "source": [
        "5. $R^2$는 $R^3$의 subspace이다."
      ]
    },
    {
      "cell_type": "markdown",
      "metadata": {
        "id": "SXuttmbKLXXa"
      },
      "source": [
        "A:True\n",
        "subspace는 R^n 내 벡터들의 선형 결합으로 만들어질 수 있는 모든 벡터들의 집합인데 R^2보다 R^3의 범위가 더 크므로 위의 주장은 참이다. \n",
        "\n",
        "\n",
        "ANSWER: False \n",
        "\n",
        "subspace는 집합 내 벡터들을 이용하여 만들 수 있는 모든 벡터들의 집합이다. 그런데 R^3의 경우 [x,y,z]고 구성되어 있지만, R^2의 경우, [x,y]이므로 R^2는 R^3에 포함될 수 없다. 그러므로 R^2는 R^3의 subspace가 아니다. \n",
        "\n",
        "\n",
        "---\n",
        "\n"
      ]
    },
    {
      "cell_type": "markdown",
      "metadata": {
        "id": "kc17U-h9LUQh"
      },
      "source": [
        "6. Vector $x \\in R^2$에 대한 Transformation $T_1$: (1) x축에 대해 reflection 후 (2) y축에 대해 reflection. \\\\\n",
        " Vector $x \\in R^2$에 대한 Transformatiopn $T_2$: 시계방향으로 180도 회전. \\\\\n",
        " 이때 $T_1$은 $T_2$와 같다. \\\\"
      ]
    },
    {
      "cell_type": "markdown",
      "metadata": {
        "id": "BC28Z883LaKW"
      },
      "source": [
        "A:True. Transformation T1에서 x축과 y축에 대해 reflection하는 것은 결국 반바퀴 돌려 정반대로 만드는 것과 같기 때문에 T1과 T2는 같다. \n",
        "\n",
        "---\n",
        "\n"
      ]
    },
    {
      "cell_type": "markdown",
      "metadata": {
        "id": "fXTB1ua6KGWT"
      },
      "source": [
        "7. A,B가 각각 invertible하면, $(A+B)^{-1} = A^{-1} + B^{-1}$ 이다."
      ]
    },
    {
      "cell_type": "markdown",
      "metadata": {
        "id": "Hr6CAJ7OLblJ"
      },
      "source": [
        "A: False\n",
        "아래에 반례를 작성하였다. \n",
        "\n",
        "---\n",
        "\n"
      ]
    },
    {
      "cell_type": "code",
      "source": [
        "a = np.array([[1,2],[3,4]])\n",
        "b = np.array([[2,3],[4,5]])\n",
        "a_inv = np.linalg.inv(a)\n",
        "b_inv = np.linalg.inv(b)\n",
        "ab_inv = np.linalg.inv((a+b))\n",
        "a_b = a_inv+b_inv\n",
        "print(ab_inv)\n",
        "print(a_b)"
      ],
      "metadata": {
        "colab": {
          "base_uri": "https://localhost:8080/"
        },
        "id": "3f-8zwsvMWYE",
        "outputId": "a88cbade-af4f-4e17-d4db-4ea1a75ff0c6"
      },
      "execution_count": null,
      "outputs": [
        {
          "output_type": "stream",
          "name": "stdout",
          "text": [
            "[[-1.125  0.625]\n",
            " [ 0.875 -0.375]]\n",
            "[[-4.5  2.5]\n",
            " [ 3.5 -1.5]]\n"
          ]
        }
      ]
    },
    {
      "cell_type": "markdown",
      "metadata": {
        "id": "yHG2CI26LkeH"
      },
      "source": [
        "8. $T(x) = Ax = \\begin{bmatrix} 3 & 2 \\\\ 5 & 1 \\\\ 0 & 0 \\end{bmatrix}\\begin{bmatrix}x_1\\\\x_2\\end{bmatrix}$는 $R^2$에서 $R^3$으로 ONTO mapping하는 transformation이다."
      ]
    },
    {
      "cell_type": "markdown",
      "metadata": {
        "id": "ESCBKi1CMys3"
      },
      "source": [
        "A: False. T(x)가 R^2에서 R^3으로 mapping하는 것은 맞지만 치역이 정의역보다 크므로 ONTO할 수 없다. \n",
        "\n",
        "---\n",
        "\n"
      ]
    },
    {
      "cell_type": "markdown",
      "metadata": {
        "id": "TSUQ1dZHM0Jt"
      },
      "source": [
        "9. $T(x) = Ax = \\begin{bmatrix} 3 & 2 \\\\ 5 & 1 \\\\ 0 & 0 \\end{bmatrix}\\begin{bmatrix}x_1\\\\x_2\\end{bmatrix}$는 $R^2$에서 $R^3$으로 one-to-one mapping하는 transformation이다."
      ]
    },
    {
      "cell_type": "markdown",
      "metadata": {
        "id": "BToGQpKpM4ja"
      },
      "source": [
        "A: True. T(x)가 구하고자 하는 해가 2개이고 주어진 조건이 3행이므로 R^2에서 R^3으로 mapping된다. 특히, 조건의 행이 서로 linearly independent하므로 one-to-one이다. \n",
        "\n",
        "---\n",
        "\n"
      ]
    },
    {
      "cell_type": "markdown",
      "metadata": {
        "id": "wDVr916dFx0s"
      },
      "source": [
        "10. $T(x) = Ax = \\begin{bmatrix} 1 & 0 &0&5&0\\\\ 0 & 1 &0&1&0\\\\ 0 & 0&1&0&0\\\\0&0&0&0&1 \\end{bmatrix}\\begin{bmatrix}x_1\\\\x_2\\\\x_3\\\\x_4\\\\x_5\\end{bmatrix}$는 $R^5$에서 $R^4$으로 ONTO mapping하는 transformation이다."
      ]
    },
    {
      "cell_type": "markdown",
      "metadata": {
        "id": "NxWInuOKOoT0"
      },
      "source": [
        "A. True. 정의역이 R^5인데 공역이 R^4이므로 ONTO mapping된다. \n",
        "\n",
        "---\n",
        "\n"
      ]
    },
    {
      "cell_type": "markdown",
      "metadata": {
        "id": "ILg0hNiCOqyj"
      },
      "source": [
        "11. $T(x) = Ax = \\begin{bmatrix} 1 & 0 &0&5&0\\\\ 0 & 1 &0&1&0\\\\ 0 & 0&1&0&0\\\\0&0&0&0&1 \\end{bmatrix}\\begin{bmatrix}x_1\\\\x_2\\\\x_3\\\\x_4\\\\x_5\\end{bmatrix}$는 $R^5$에서 $R^4$으로 one-to-one mapping하는 transformation이다."
      ]
    },
    {
      "cell_type": "markdown",
      "metadata": {
        "id": "MkcXZLycOwa5"
      },
      "source": [
        "A.False. \n",
        "\n",
        "정의역이 R^5에 속해있고 공역이 R^4이다. 조건의 column이 서로 linearly independent하다. 그러나 정의역이 더 많으므로 one-to-one을 만족하지 않는다. \n",
        "\n",
        "---\n",
        "\n"
      ]
    },
    {
      "cell_type": "markdown",
      "metadata": {
        "id": "dB-AgyBNOuRF"
      },
      "source": [
        "12. $T: R^n \\rightarrow R^n$ 인 $T$가 one-to-one linear transformation이면, $T$는 ONTO linear transformation이다."
      ]
    },
    {
      "cell_type": "markdown",
      "metadata": {
        "id": "GUh4yO_rPdbz"
      },
      "source": [
        "A. True. 정의역과 공역의 크기가 같은 T가 one-to-one linear transformation이라면 치역도 R^n으로 정의역과 같다. 그러므로 T는 ONTO linear transformation이다. \n",
        "\n",
        "---\n",
        "\n"
      ]
    },
    {
      "cell_type": "markdown",
      "metadata": {
        "id": "OqHGwpcNPe8A"
      },
      "source": [
        "13. $T: R^n \\rightarrow R^n$ 인 $T$가 ONTO linear transformation이면, $T$는 one-to-one linear transformation이다."
      ]
    },
    {
      "cell_type": "markdown",
      "metadata": {
        "id": "fCErzrXoPjYd"
      },
      "source": [
        "A. True. 정의역과 공역의 크기가 같은데 ONTO linear transformation이려면 하나의 정의역이 서로 겹치지 않게 공역과 매핑되어야 한다. 그러면 이 함수는 한개의 치역이 복수의 정의역과 매핑되는 결과가 없으므로 one-to-one transforamtion이라고 할 수 있다. \n",
        "\n",
        "---\n",
        "\n"
      ]
    },
    {
      "cell_type": "markdown",
      "metadata": {
        "id": "IoN8YpEmPk0d"
      },
      "source": [
        "14. $A$가 $n \\times n$ matrix이면서 rank가 $n$인 경우, $A$는 invertible 하다."
      ]
    },
    {
      "cell_type": "markdown",
      "metadata": {
        "id": "QxrBJ8MzXhlm"
      },
      "source": [
        "A. True. A가 nxn이면서 rank가 n이 되려면 A의 column space가 linearly independent하다는 것을 의미한다. 이것은 정사각행렬이 되고 column이 선형독립이므로 A는 invertible하다. \n",
        "\n",
        "---\n",
        "\n"
      ]
    },
    {
      "cell_type": "markdown",
      "metadata": {
        "id": "zeIEt1kGXlgO"
      },
      "source": [
        "15. $A = \\begin{bmatrix} 1 & 1 & 1\\\\ 2 & 2& 2 \\\\ 3 & 3& 3 \\end{bmatrix}$은 invertible하지 않다."
      ]
    },
    {
      "cell_type": "markdown",
      "metadata": {
        "id": "kXRcSYA6YmGd"
      },
      "source": [
        "A. True. \n",
        "\n",
        "column이 linearly dependent하므로 rank=1이다 또한, 행렬식이 0이 되므로 역행렬은 존재하지 않는다. 행렬식 계산은 아래 코드에 있다. \n",
        "\n",
        "\n",
        "---\n",
        "\n"
      ]
    },
    {
      "cell_type": "code",
      "source": [
        "A = [[1,1,1],[2,2,2],[3,3,3]]\n",
        "print(np.linalg.det(A))"
      ],
      "metadata": {
        "colab": {
          "base_uri": "https://localhost:8080/"
        },
        "id": "FddZFeCrRvDr",
        "outputId": "badf5f65-6e4b-4614-d0c3-ed2001a4742e"
      },
      "execution_count": null,
      "outputs": [
        {
          "output_type": "stream",
          "name": "stdout",
          "text": [
            "0.0\n"
          ]
        }
      ]
    },
    {
      "cell_type": "markdown",
      "metadata": {
        "id": "-b61bc66Ymix"
      },
      "source": [
        "16. $A$와 $B$의 rank가 같다면, 두 matrix의 shape은 같다."
      ]
    },
    {
      "cell_type": "markdown",
      "metadata": {
        "id": "sTNrUS7oZfSe"
      },
      "source": [
        "A. False. Rank는 행렬에서 선형 독립인 열들의 개수를 말한다. 그러므로 A,B의 rank가 같다면 두 행렬의 선형독립인 칼럼수가 같은 것이지 실제 컬럼의 수와 row의 수가 같은지 보장하지 않는다. 그러므로 false이다. \n",
        "\n",
        "---\n",
        "\n"
      ]
    },
    {
      "cell_type": "markdown",
      "metadata": {
        "id": "z0pZv776ZgHn"
      },
      "source": [
        "17. $AB = BC$이면, $B=C$이다."
      ]
    },
    {
      "cell_type": "markdown",
      "metadata": {
        "id": "5tM8vpIyZhs3"
      },
      "source": [
        "A. False. AB = BC에서 C를 구하려면 C = (AB)B^-1이므로 결합법칙에 따라 A(BB^-1)이 성립한다. 이 경우 BB^-1이 항등행렬이 되므로 C=A가 된다. \n",
        "\n",
        "---\n",
        "\n"
      ]
    },
    {
      "cell_type": "markdown",
      "metadata": {
        "id": "Y0_zeisxZt8v"
      },
      "source": [
        "18. $B = A^TA$이면, $B$는 symmetric matrix이다."
      ]
    },
    {
      "cell_type": "markdown",
      "metadata": {
        "id": "HF98eLXsZ79T"
      },
      "source": [
        "A.Fasle. 반례를 아래에 코드로 작성하였다. \n",
        "\n",
        "---\n",
        "\n"
      ]
    },
    {
      "cell_type": "code",
      "source": [
        "a = np.array([[1,2],[3,4]])\n",
        "a_t = a.T\n",
        "\n",
        "print(a@a_t)"
      ],
      "metadata": {
        "colab": {
          "base_uri": "https://localhost:8080/"
        },
        "id": "300-yTWiXLAZ",
        "outputId": "74663110-7d46-4356-ff31-528b786d03d8"
      },
      "execution_count": null,
      "outputs": [
        {
          "output_type": "stream",
          "name": "stdout",
          "text": [
            "[[ 5 11]\n",
            " [11 25]]\n"
          ]
        }
      ]
    },
    {
      "cell_type": "markdown",
      "metadata": {
        "id": "YB9qNFIDZvpn"
      },
      "source": [
        "19. Vector $v_1, v_2, v_3, v_4, v_5$가 $R^5$를 span한다면, 저 다섯 vector는 서로 linearly independent하다."
      ]
    },
    {
      "cell_type": "markdown",
      "metadata": {
        "id": "cnDN-ri_c7eQ"
      },
      "source": [
        "A. True. linearly independent이여야만 column space의 span을 column의 개수로 가지므로 성립한다. \n",
        "\n",
        "---\n",
        "\n"
      ]
    },
    {
      "cell_type": "markdown",
      "metadata": {
        "id": "MA13PNouc8F-"
      },
      "source": [
        "20. $v_1, v_2, v_3 \\in R^3$인 세 vector가 서로 linearly dependent 하다면, 세 vector를 칼럼으로 하는 matrix $A = \\begin{bmatrix} \\mid & \\mid & \\mid \\\\ v_1 & v_2 & v_3 \\\\ \\mid & \\mid & \\mid  \\end{bmatrix}$는 invertible하지 않다."
      ]
    },
    {
      "cell_type": "markdown",
      "metadata": {
        "id": "IT_-fvEVZ54x"
      },
      "source": [
        "A. True. 내부 벡터가 linearly independent해야만 inveritble하다. \n",
        "\n",
        "\n",
        "---\n",
        "\n"
      ]
    },
    {
      "cell_type": "markdown",
      "metadata": {
        "id": "ne3rE5yWaJNb"
      },
      "source": [
        "21. $v_1, v_2 \\in R^3$인 두 vector가 span하는 subspace는 평면이다 (2 dimensional subspace)."
      ]
    },
    {
      "cell_type": "markdown",
      "metadata": {
        "id": "8Rx_9cMxaw4d"
      },
      "source": [
        "A. False. 두 벡터는 각각 원소가 3개 있는 벡터이다. 이 벡터가 linearly independent라는 조건이 붙어야 3차원 공간에서 한 평면으로 구성되게 된다. \n",
        "\n",
        "---\n",
        "\n"
      ]
    },
    {
      "cell_type": "markdown",
      "metadata": {
        "id": "PCaKfiFOaxpe"
      },
      "source": [
        "22. Normal equation은 해가 항상 존재한다."
      ]
    },
    {
      "cell_type": "markdown",
      "metadata": {
        "id": "iLTgqoAoeDgC"
      },
      "source": [
        "A. True.  \n",
        "평면은 [a1, a2]가 column of A라고 한다. b는 이 공간 밖에 있어 해를 찾을 수가 없다. 다시 돌아와서 normal equation은 A^T@A@x = A^T@b이다. 여기서 b를 구해보자. b = A@x + e가 되는데 여기서 우리가 구하고 싶은 것은 x이므로 A^Tb = A^T@A@X + A^T*e이다. e는 평면에 수직인 벡터이므로 A의 벡터들과 모두 수직이다. 그러므로 0 vector가 되므로 A^Tb = A^T@A@X가 된다. 이 식을 통해 x의 해가 항상 있다는 것을 증명할 수 있다. \n",
        "\n",
        "\n",
        "---\n",
        "\n"
      ]
    },
    {
      "cell_type": "markdown",
      "metadata": {
        "id": "2UI1Hy5qeECr"
      },
      "source": [
        "23. $m \\times n$ matrix $A$의 column vector $v_1,v_2, \\cdots, v_n$이 orthonormal 하다면,  $AA^Tx$는 $x$를 Col $A$에 orthogonal projection하는 matrix이다."
      ]
    },
    {
      "cell_type": "markdown",
      "metadata": {
        "id": "ztK4wjlFaJXc"
      },
      "source": [
        " A. True. \n",
        " A의 column span에 수선의 발을 구하는 과정이다. \n",
        "\n",
        "---\n",
        "\n"
      ]
    },
    {
      "cell_type": "markdown",
      "metadata": {
        "id": "UASni6U232y8"
      },
      "source": [
        "24. $m \\times n$ matrix $A$의 column vector $v_1,v_2, \\cdots, v_n$이 서로 linearly independent 하다고 하자. 그렇다면 $v_1,v_2, \\cdots, v_n$에 Gram-Schmidt를 적용하면 Col $A$의 orthogonal basis가 된다."
      ]
    },
    {
      "cell_type": "markdown",
      "metadata": {
        "id": "m_aJk5EK348-"
      },
      "source": [
        "A. True. \n",
        ">gram-schmidts를 하는 이유. \n",
        "\n",
        "gram-schmidt는 주어진 벡터로 orthogonal basis를 구하는 수식이므로 주어진 벡터들에 이 수식을 적용하면 colA의 orthogonal basis를 구할 수 있다. \n",
        "\n",
        "\n",
        "---\n",
        "\n"
      ]
    },
    {
      "cell_type": "markdown",
      "metadata": {
        "id": "P4Nf84rW35oP"
      },
      "source": [
        "25. Subspace $V$ = span ($\\Bigg\\{ \\begin{bmatrix} 3 \\\\ 1 \\\\ 0\\end{bmatrix}\\, \\begin{bmatrix} 1 \\\\ 2 \\\\ 0\\end{bmatrix}\\Bigg\\}$)라고 하자. 이때 ($\\Bigg\\{ \\begin{bmatrix} 1 \\\\ 1 \\\\ 0\\end{bmatrix}\\, \\begin{bmatrix} 0 \\\\ 0 \\\\ 1\\end{bmatrix}\\Bigg\\}$)은 $V$의 orthogonal basis가 된다."
      ]
    },
    {
      "cell_type": "markdown",
      "metadata": {
        "id": "g5pqFJ-f364s"
      },
      "source": [
        "\n",
        "\n",
        "A. False. 아래에 반례를 두었다.  \n",
        "span을 내적하면 5로 0이 아니다. 세번째 component가 0인데 새로 주어진 것은 1이 있다. 두 공간이 다르다는 것을 알 수 있고 그러므로 basis가 될 수 없다. \n",
        "\n",
        "\n",
        "---\n",
        "\n"
      ]
    },
    {
      "cell_type": "code",
      "source": [
        "A = np.array([[3,1,0],[1,2,0]])\n",
        "\n",
        "u1 = A[:,0]\n",
        "A[:,0] = A[:,0]/(A[:,0]@A[:,0])**0.5\n",
        "\n",
        "v2 = A[:,1]\n",
        "proj = ((u1@v2)/(u1@u1))*u1\n",
        "u2 = v2-proj\n",
        "A[:,1] = u2/(u2@u2)**0.5\n",
        "\n",
        "v3 = A[:,2]\n",
        "proj1 = ((u1@v3)/(u1@u1))*u1\n",
        "proj2 = ((u2@v3)/(u2@u2))*u2\n",
        "u3 = v3-proj1-proj2\n",
        "A[:,2] = u3/(u3@u3)**0.5\n",
        "\n",
        "print(A)"
      ],
      "metadata": {
        "colab": {
          "base_uri": "https://localhost:8080/"
        },
        "id": "XgwWVsywbU8_",
        "outputId": "13956884-74b2-435c-f1b2-637c24f9de5b"
      },
      "execution_count": null,
      "outputs": [
        {
          "output_type": "stream",
          "name": "stdout",
          "text": [
            "[[                   0 -9223372036854775808 -9223372036854775808]\n",
            " [                   0 -9223372036854775808 -9223372036854775808]]\n"
          ]
        },
        {
          "output_type": "stream",
          "name": "stderr",
          "text": [
            "/usr/local/lib/python3.7/dist-packages/ipykernel_launcher.py:7: RuntimeWarning: invalid value encountered in long_scalars\n",
            "  import sys\n",
            "/usr/local/lib/python3.7/dist-packages/ipykernel_launcher.py:12: RuntimeWarning: invalid value encountered in long_scalars\n",
            "  if sys.path[0] == '':\n"
          ]
        }
      ]
    },
    {
      "cell_type": "markdown",
      "metadata": {
        "id": "G_7pVdqM37e6"
      },
      "source": [
        "26. 어떤 임의의 n개의 vector set이 주어졌을 때, Gram-Schmidt orthonormalization을 이용하면, 서로 orthonormal한 n개의 vector set으로 만들 수 있다."
      ]
    },
    {
      "cell_type": "markdown",
      "metadata": {
        "id": "lh9vdx1i384j"
      },
      "source": [
        "A. False. 주어진 벡터 n개가 모두 linearly independent일 때에만 gram-schmidt orthonormalization을 했을 때, n개의 벡터 셋이 나온다. linearly independent가 아닌 경우가 있을 때 해당 개수만큼 빠지게 된다. \n",
        "\n",
        "---\n",
        "\n"
      ]
    },
    {
      "cell_type": "markdown",
      "metadata": {
        "id": "GsYrYoROGt47"
      },
      "source": [
        "27. $A^TA=0$이면, $A=0$이다."
      ]
    },
    {
      "cell_type": "markdown",
      "metadata": {
        "id": "29ecICTyHxXp"
      },
      "source": [
        "A. True. A^T는 A를 전치시킨 것으로 결국 A의 각 자리 요소들을 제곱한 것이다. 그러므로 이 행렬의 값이 0이 되려면 A가 0이 되어야 한다. \n",
        "\n",
        "---\n",
        "\n"
      ]
    },
    {
      "cell_type": "markdown",
      "metadata": {
        "id": "w-NamE7UHyCJ"
      },
      "source": [
        "28.  $x_1=x_3$를 만족하는 vector $x=\\begin{bmatrix}x_1\\\\x_2\\\\x_3\\end{bmatrix}$의 set을 $H$라고 하자. $H$는 $R^3$의 subspace이다."
      ]
    },
    {
      "cell_type": "markdown",
      "metadata": {
        "id": "7ORa6wKLN3L3"
      },
      "source": [
        "A. True. \n",
        "\n",
        "subspace안에 있는 vector의 형태가 [x1, x2, x3]라는 것이다. \n",
        "\n",
        "x1과 x3가 같다면 두 벡터는 linear dependent하다. 그러므로 이것으로 선형 결합을 만들면 x1로 만든 것과 x3로 만든 것이 같을 것이므로 subspace에 포함된다고 할 수 있다. \n",
        "\n",
        "---\n",
        "\n"
      ]
    },
    {
      "cell_type": "markdown",
      "metadata": {
        "id": "tj1ZH9iQN3_K"
      },
      "source": [
        "29. $x_2=1$를 만족하는 vector $x=\\begin{bmatrix}x_1\\\\x_2\\\\x_3\\end{bmatrix}$의 set을 $H$라고 하자. $H$는 $R^3$의 subspace이다.\n"
      ]
    },
    {
      "cell_type": "markdown",
      "metadata": {
        "id": "QBL2L_fcNMSG"
      },
      "source": [
        "A. False. \n",
        "\n",
        "벡터의 구성에서 2번째가 1의 값을 가져야 한다는 의미다. 그러므로 v = [v1,1,v3], w = [w1,1,w3]라고 할때, v+w는 [v1+w1, 2, v3+w3]이므로 R^3에 포함되지 않는다. \n",
        "\n",
        "---\n",
        "\n"
      ]
    },
    {
      "cell_type": "markdown",
      "metadata": {
        "id": "jbbAoZjXOGIZ"
      },
      "source": [
        "30. $x_1x_2=0$를 만족하는 vector $x=\\begin{bmatrix}x_1\\\\x_2\\\\x_3\\end{bmatrix}$의 set을 $H$라고 하자. $H$는 $R^3$의 subspace이다.\n"
      ]
    },
    {
      "cell_type": "markdown",
      "metadata": {
        "id": "pQZ1_R-iOGKW"
      },
      "source": [
        "A. False. \n",
        "\n",
        "v = [1,0,1], w = [0,1,1]이라고 할 때, v,w 각각은 x1x2 = 0이 성립하지만 선형결합으로 만들어진 v+w = [1,1,1]은 만족하지 않는다. 그러므로 H가 R^3의 subspace라는 말은 거짓이다. \n",
        "\n",
        "---\n",
        "\n"
      ]
    },
    {
      "cell_type": "markdown",
      "metadata": {
        "id": "AIqhJvWJOGMX"
      },
      "source": [
        "31. $x_1+x_2+x_3=0$를 만족하는 vector $x=\\begin{bmatrix}x_1\\\\x_2\\\\x_3\\end{bmatrix}$의 set을 $H$라고 하자. $H$는 $R^3$의 subspace이다.\n"
      ]
    },
    {
      "cell_type": "markdown",
      "metadata": {
        "id": "pdIzoVhpOGOQ"
      },
      "source": [
        "A. True. \n",
        "\n",
        "v = [v1,v2,v3], w = [w1,w2,w3]은 각 요소의 합이 0이다. 여기서 v와 w의 선형결합은 [[c1v1+c2w1],[c1v2+c2w],[c1v3+c2w3]을 만족한다. 앞에서 이미 각 요소의 합이 0이라고 했으므로 c1(v1+v2+v3) = 0, c2(w1+w2+w3)=0이다. 그러므로 이 주장은 참이다. \n",
        "\n",
        "---\n",
        "\n"
      ]
    },
    {
      "cell_type": "markdown",
      "metadata": {
        "id": "zx7abeVJPhf_"
      },
      "source": [
        "32. span$\\Bigg\\{\\begin{bmatrix}1 \\\\ 2 \\\\ 3 \\end{bmatrix}, \\begin{bmatrix}1 \\\\ 3 \\\\ 5 \\end{bmatrix} \\Bigg\\}$를  $H$라고 하자. $H$는 $R^3$의 subspace이다.\n"
      ]
    },
    {
      "cell_type": "markdown",
      "metadata": {
        "id": "0s_wTu57O9cG"
      },
      "source": [
        "A. True. \n",
        "span은 요소가 3개인 벡터로 이루어져 있다.그러므로 H는 당연히 이 것들로 만들어 질 수 있는 모든 경우의 집합인 R^3의 subspace이다. \n",
        "\n",
        "\n",
        "---\n",
        "\n"
      ]
    },
    {
      "cell_type": "markdown",
      "metadata": {
        "id": "KSgA0etYQzsW"
      },
      "source": [
        "33. 어떤 vector $x$를 subspace $H$로 orthogonal projection 하는 matrix는 여러 개가 나올 수 있다."
      ]
    },
    {
      "cell_type": "markdown",
      "metadata": {
        "id": "o0UMIr_XQ-8t"
      },
      "source": [
        "A. False. \n",
        "\n",
        "수선의 발을 내리는 경우는 한 가지 뿐이므로 orthogonal projection할 수 있는 경우도 한가지 뿐이다. \n",
        "\n",
        "행렬 A는 하나만 정의된다. 그러므로 orthogonal projection하는 공식은 A(A^TA)^-1A^T이므로 한개의 값으로 정의된다. 그러므로 1가지!!\n",
        "\n",
        "---\n",
        "\n"
      ]
    },
    {
      "cell_type": "markdown",
      "metadata": {
        "id": "KqQM7cs3RAAS"
      },
      "source": [
        "34. Least square 문제에서 error, $b - Ax$는 0이 나올 수 없다."
      ]
    },
    {
      "cell_type": "markdown",
      "metadata": {
        "id": "K6quBrfQRBbD"
      },
      "source": [
        "A. False. \n",
        "\n",
        "처음부터 b가 column of A위에 존재한다면 0이 나올 수 있다.\n",
        "\n",
        "---\n",
        "\n"
      ]
    },
    {
      "cell_type": "markdown",
      "metadata": {
        "id": "SKZS9f3PRCEf"
      },
      "source": [
        "35. QR factorization은 square matrix에만 할 수 있다.  "
      ]
    },
    {
      "cell_type": "markdown",
      "metadata": {
        "id": "FNcTLayLRC39"
      },
      "source": [
        "A. False.\n",
        "\n",
        "4X3도 가능하다. PPT예제를 살펴보자.  \n",
        "\n",
        "---\n",
        "\n"
      ]
    }
  ]
}
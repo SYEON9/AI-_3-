{
  "nbformat": 4,
  "nbformat_minor": 0,
  "metadata": {
    "colab": {
      "name": "HW2_RawMovieReview.ipynb",
      "private_outputs": true,
      "provenance": [],
      "authorship_tag": "ABX9TyP98CNwn0PW+Yy8C4rVu3k8",
      "include_colab_link": true
    },
    "kernelspec": {
      "name": "python3",
      "display_name": "Python 3"
    },
    "language_info": {
      "name": "python"
    }
  },
  "cells": [
    {
      "cell_type": "markdown",
      "metadata": {
        "id": "view-in-github",
        "colab_type": "text"
      },
      "source": [
        "<a href=\"https://colab.research.google.com/github/SYEON9/natural_language_3th/blob/main/HW/HW2_RawMovieReview.ipynb\" target=\"_parent\"><img src=\"https://colab.research.google.com/assets/colab-badge.svg\" alt=\"Open In Colab\"/></a>"
      ]
    },
    {
      "cell_type": "code",
      "execution_count": null,
      "metadata": {
        "id": "jFTvqWEJV1PS"
      },
      "outputs": [],
      "source": [
        "#csv파일로 저장된 데이터를 쉽게 접근하기위서 파이썬 내에서 구조화 하자.\n",
        "#데이터 파일에 접근 가능할 수 있도록 클래스를 만들어보자.\n",
        "\n",
        "class RawMovieReview:\n",
        "\n",
        "    def __init__(self, file_name):\n",
        "        self._file_name = file_name\n",
        "        self.__fileList = []\n",
        "        self._file = open(self._file_name, encoding = 'EUC-KR')    #받은 파일을 열 수 있도록 open사용.    \n",
        "        read_file = csv.reader(self._file)                         #주어진 csv file의 줄을 순서대로 읽어오는 reader 객체를 반환. \n",
        "        for line in read_file:\n",
        "            self.__fileList.append(tuple(line[1:]))                #한줄씩 읽어와 리스트에 넣음. -> 데이터 하나씩 불러올 수 있음. 변경할 수 없도록 튜플로 설정.\n",
        "        self.__fileList[1:] = sorted(self.__fileList[1:])\n",
        "\n",
        "\n",
        "    def __getitem__(self, index):                                  #데이터에 index로 접근할 수 있도록 수정.\n",
        "        \n",
        "        if self.__fileList != []:\n",
        "            return self.__fileList[index]\n",
        "        else:\n",
        "            print('파일이 열리지 않았음. \\n status = False')\n",
        "            return False\n",
        "    \n",
        "    def __len__(self):                                             #데이터셋 내의 한줄평 개수를 조회할 수 있게 수정.\n",
        "        return len(self.__fileList)                                #sentence의 개수는 데이터 개수와 같으므로 데이터 갯수를 세도록 설정. \n"
      ]
    },
    {
      "cell_type": "code",
      "source": [
        ""
      ],
      "metadata": {
        "id": "nvCjkWecm42r"
      },
      "execution_count": null,
      "outputs": []
    },
    {
      "cell_type": "code",
      "source": [
        "#객체를 생성하고 확인해보자.\n",
        "import csv\n",
        "\n",
        "movieRevier = RawMovieReview('samples.csv')"
      ],
      "metadata": {
        "id": "uHmYCakVlbjd"
      },
      "execution_count": null,
      "outputs": []
    },
    {
      "cell_type": "code",
      "source": [
        "len(movieRevier)"
      ],
      "metadata": {
        "id": "A7wWS5tRmXox"
      },
      "execution_count": null,
      "outputs": []
    },
    {
      "cell_type": "code",
      "source": [
        "movieRevier[:10]"
      ],
      "metadata": {
        "id": "J7DBee8ZsSgZ"
      },
      "execution_count": null,
      "outputs": []
    },
    {
      "cell_type": "code",
      "source": [
        ""
      ],
      "metadata": {
        "id": "FzCBdo8atNsm"
      },
      "execution_count": null,
      "outputs": []
    }
  ]
}
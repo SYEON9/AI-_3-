{
  "nbformat": 4,
  "nbformat_minor": 0,
  "metadata": {
    "colab": {
      "name": "[HW11]Multiple linear regression practice.ipynb",
      "private_outputs": true,
      "provenance": [],
      "authorship_tag": "ABX9TyNrY5lfh3e1vzfh9Hvn8Fkr",
      "include_colab_link": true
    },
    "kernelspec": {
      "name": "python3",
      "display_name": "Python 3"
    },
    "language_info": {
      "name": "python"
    }
  },
  "cells": [
    {
      "cell_type": "markdown",
      "metadata": {
        "id": "view-in-github",
        "colab_type": "text"
      },
      "source": [
        "<a href=\"https://colab.research.google.com/github/SYEON9/natural_language_3th/blob/main/HW/%5BHW11%5DMultiple_linear_regression_practice.ipynb\" target=\"_parent\"><img src=\"https://colab.research.google.com/assets/colab-badge.svg\" alt=\"Open In Colab\"/></a>"
      ]
    },
    {
      "cell_type": "code",
      "execution_count": null,
      "metadata": {
        "id": "5AmmacwjOhJc"
      },
      "outputs": [],
      "source": [
        "#이번에는 2개 이상의 독립변수 x에 대해 하나의 종속변수 y의 관계를 알아보자.\n",
        "#이것을 Multiple linear regression이라고 한다. "
      ]
    },
    {
      "cell_type": "code",
      "source": [
        "#data set\n",
        "#사용할 데이터셋은 auto miles per gallons(MPG)로\n",
        "# 자동차의 여러 기술적인 사양들을 고려하여 연비를 예측하고자 한다. \n",
        "\n",
        "#library load\n",
        "import pandas as pd\n",
        "import seaborn                  #matplotlib을 기반으로 다양한 색상 테마와 통계용 차트 등의 기능을 추가한 시각화 패키지.\n",
        "seaborn.set()                   #스타일 지정"
      ],
      "metadata": {
        "id": "cv4FH0x7oT9y"
      },
      "execution_count": null,
      "outputs": []
    },
    {
      "cell_type": "code",
      "source": [
        "#data download\n",
        "from urllib.request import urlretrieve\n",
        "URL = 'https://go.gwu.edu/engcomp6data3'\n",
        "urlretrieve(URL, 'auto_mpg.csv')"
      ],
      "metadata": {
        "id": "Yp0SkyAdooGI"
      },
      "execution_count": null,
      "outputs": []
    },
    {
      "cell_type": "code",
      "source": [
        "#data load and check\n",
        "mpg_data = pd.read_csv('/content/auto_mpg.csv')\n",
        "mpg_data.head()"
      ],
      "metadata": {
        "id": "UYd2g64WpPS_"
      },
      "execution_count": null,
      "outputs": []
    },
    {
      "cell_type": "code",
      "source": [
        "mpg_data.info()                  #data info check"
      ],
      "metadata": {
        "id": "pj43LUYfpi9j"
      },
      "execution_count": null,
      "outputs": []
    },
    {
      "cell_type": "code",
      "source": [
        "#여기서 car name은 object형이고 origin은 categorical이다. \n",
        "#그러므로 여기서 두 변수를 제외하고 생각해보자. \n",
        "#target은 mpg이다.\n",
        "y_col = 'mpg'\n",
        "x_cols = mpg_data.columns.drop(['car name', 'origin', 'mpg'])\n",
        "\n",
        "print(x_cols)"
      ],
      "metadata": {
        "id": "pXUQREXHpnAo"
      },
      "execution_count": null,
      "outputs": []
    },
    {
      "cell_type": "code",
      "source": [
        ""
      ],
      "metadata": {
        "id": "809si2i2tc6G"
      },
      "execution_count": null,
      "outputs": []
    },
    {
      "cell_type": "code",
      "source": [
        "#본격적으로 분석을 진행하기 전에 자동차의 정보들과 연비(mpg)의 1:1 상관관계를 알아보자.\n",
        "#시각화하여 직관적으로 이해하자.\n",
        "seaborn.pairplot(data=mpg_data, height=5, aspect=1,\n",
        "                 x_vars = x_cols,\n",
        "                 y_vars = y_col);                       #accerlation과 model_year의 정보는 양의 상관관계를, 나머지는 음의 상관관계가 있다. \n",
        "#결과적으로 상관관계를 통해 linear model이 연비를 예측하는데 충분하다는 것을 알 수 있다.                 "
      ],
      "metadata": {
        "id": "sz63WCfDthEe"
      },
      "execution_count": null,
      "outputs": []
    },
    {
      "cell_type": "code",
      "source": [
        ""
      ],
      "metadata": {
        "id": "q71HI7jUt15f"
      },
      "execution_count": null,
      "outputs": []
    },
    {
      "cell_type": "code",
      "source": [
        "#Linear Model in Matrix form\n",
        "from autograd import numpy \n",
        "from autograd import grad"
      ],
      "metadata": {
        "id": "w4iEgv17uwiS"
      },
      "execution_count": null,
      "outputs": []
    },
    {
      "cell_type": "code",
      "source": [
        "X = mpg_data[x_cols].values\n",
        "X = numpy.hstack((numpy.ones((X.shape[0],1)), X))   #X의 맨 왼족에 1로만 이루진 벡터를 추가한다. \n",
        "y = mpg_data[y_col].values\n",
        "\n",
        "print(\"X.shape = {}, y.shape = {}\".format(X.shape, y.shape))"
      ],
      "metadata": {
        "id": "B3nxGqylvNy4"
      },
      "execution_count": null,
      "outputs": []
    },
    {
      "cell_type": "code",
      "source": [
        "#cost function define -> MSE\n",
        "\n",
        "def linear_regression(params, X):\n",
        "    '''\n",
        "    The linear regression model in matrix form. \n",
        "    Arguments:\n",
        "      params: 1D array of weights for the linear model\n",
        "      X     : 2D array of input values\n",
        "    Returns:\n",
        "      1D array of predicted values\n",
        "    '''\n",
        "    return numpy.dot(X, params)                            #numpy array를 곱할 때 사용.\n",
        "\n",
        "def cost_function(params, model, X, y):\n",
        "    '''\n",
        "    The mean squared error loss function.\n",
        "    Arguments:\n",
        "      params: 1D array of weights for the lienar model\n",
        "      model : function for the linear regression model\n",
        "      X     : 2D array of input values\n",
        "      Y     : 1D array of predicted values\n",
        "    Returns:\n",
        "      float, mean squeared error\n",
        "    '''\n",
        "    y_pred = model(params, X)\n",
        "    return numpy.mean(numpy.sum((y-y_pred)**2))"
      ],
      "metadata": {
        "id": "pcAEwFoWwTx7"
      },
      "execution_count": null,
      "outputs": []
    },
    {
      "cell_type": "code",
      "source": [
        ""
      ],
      "metadata": {
        "id": "mhoHWAmPyRxX"
      },
      "execution_count": null,
      "outputs": []
    },
    {
      "cell_type": "code",
      "source": [
        "#gradient descent를 사용하여 weights를 찾아보자\n",
        "#cost function을 정의했으니 gradient descent를 사용하여 cost를 최소로 하는 계수를 찾아보자. \n",
        "\n",
        "#1.autograd.grad()를 사용하여 기울기를 구해보자. \n",
        "#여기서 구해지는 기울기가 해당 변수의 weight이다.\n",
        "gradient = grad(cost_function)                   #cost_function의 기울기를 구하는 기능을 만들어보자. "
      ],
      "metadata": {
        "id": "3NVJNqLbyUBT"
      },
      "execution_count": null,
      "outputs": []
    },
    {
      "cell_type": "code",
      "source": [
        "#기울기 확인\n",
        "gradient(numpy.random.rand(X.shape[1]), linear_regression, X, y)          #기울기가 크게 나온다. 다시 진행하자."
      ],
      "metadata": {
        "id": "e-nHPc0Hypta"
      },
      "execution_count": null,
      "outputs": []
    },
    {
      "cell_type": "code",
      "source": [
        "max_iter = 30     #반복 횟수\n",
        "alpha = 0.001     #learning rate\n",
        "params = numpy.zeros(X.shape[1])      #각 weight의 임의의 값을 0으로 설정.\n",
        "\n",
        "for i in range(max_iter):\n",
        "    descent = gradient(params, linear_regression, X, y)\n",
        "    params = params - descent * alpha                        #params 수정\n",
        "    loss = cost_function(params, linear_regression, X, y)    #해당 params로 구한 cost\n",
        "    if i%5 == 0:\n",
        "        print(\"iteration {}, loss = {}\".format(i, loss))"
      ],
      "metadata": {
        "id": "w4zue93RysxX"
      },
      "execution_count": null,
      "outputs": []
    },
    {
      "cell_type": "code",
      "source": [
        ""
      ],
      "metadata": {
        "id": "XdHJg5eA0-xm"
      },
      "execution_count": null,
      "outputs": []
    },
    {
      "cell_type": "code",
      "source": [
        "#loss가 무한대로 넘어가서 오류가 발생했다. 즉, loss가 줄어들지 않고 증가했다. \n",
        "#왜 이런 문제가 발생했을까?\n",
        "#-> input value 중 특정 값들이 너무 커서 일어난 일이다. input value의 max, min값을 확인해보자.\n",
        "mpg_data[x_cols].describe().loc[['max','min']]    #변수들 사이의 scale차이가 크다. 정규화가 필요하다!!!"
      ],
      "metadata": {
        "id": "WuvBkK7f0PkB"
      },
      "execution_count": null,
      "outputs": []
    },
    {
      "cell_type": "code",
      "source": [
        "#우리는 변수 정규화의 방법으로 min-max scalng을 사용할 것이다. \n",
        "#간편하게 scikit-learn 패키지를 사용해보자.\n",
        "from sklearn.preprocessing import MinMaxScaler\n",
        "\n",
        "min_max_scaler = MinMaxScaler()\n",
        "X_scaled = min_max_scaler.fit_transform(mpg_data[x_cols])\n",
        "X_scaled = numpy.hstack((numpy.ones((X_scaled.shape[0],1)), X_scaled))"
      ],
      "metadata": {
        "id": "hRfVwXN01NVA"
      },
      "execution_count": null,
      "outputs": []
    },
    {
      "cell_type": "code",
      "source": [
        "pd.DataFrame(X_scaled).describe().loc[['max','min']]              #데이터가 정규화되었다!!!"
      ],
      "metadata": {
        "id": "ir_r3Fn82LBq"
      },
      "execution_count": null,
      "outputs": []
    },
    {
      "cell_type": "code",
      "source": [
        "#이제 다시 gradient descent를 진행해보자.\n",
        "max_iter = 1000\n",
        "alpha = 0.001\n",
        "params = numpy.zeros(X.shape[1])\n",
        "\n",
        "for i in range(max_iter):\n",
        "    descent = gradient(params, linear_regression, X_scaled, y)\n",
        "    params = params - descent * alpha\n",
        "    loss = cost_function(params, linear_regression, X_scaled, y)\n",
        "    if i%100 == 0:\n",
        "        print(\"iteration {}, loss = {}\".format(i, loss))"
      ],
      "metadata": {
        "id": "8J9gfMHr2rFP"
      },
      "execution_count": null,
      "outputs": []
    },
    {
      "cell_type": "code",
      "source": [
        "#params의 학습이 완료되었다. 학습된 params는 다음과 같고,\n",
        "#우리는 예측값을 params와 X의 곱으로 나타낼 수 있다.\n",
        "params"
      ],
      "metadata": {
        "id": "tFp2SB6w21hY"
      },
      "execution_count": null,
      "outputs": []
    },
    {
      "cell_type": "code",
      "source": [
        "y_pred_gd = X_scaled @ params"
      ],
      "metadata": {
        "id": "rR_xo_sV3Ej-"
      },
      "execution_count": null,
      "outputs": []
    },
    {
      "cell_type": "code",
      "source": [
        ""
      ],
      "metadata": {
        "id": "lCy2Mz6I3K_c"
      },
      "execution_count": null,
      "outputs": []
    },
    {
      "cell_type": "code",
      "source": [
        "#우리가 만든 모델이 얼마나 정확한지 확인해보자\n",
        "#주로 사용하는 지표는 MAE와 RMSE이다. scikit-learn을 사용하여 확인해보자.\n",
        "from sklearn.metrics import mean_absolute_error, mean_squared_error\n",
        "\n",
        "mae = mean_absolute_error(y, y_pred_gd)\n",
        "rmse = mean_squared_error(y, y_pred_gd, squared=False)\n",
        "print('MAE = {}'.format(mae))                           #2.61\n",
        "print('RMSE = {}'.format(rmse))                         #3.41"
      ],
      "metadata": {
        "id": "_Nb_RSnx3QtG"
      },
      "execution_count": null,
      "outputs": []
    },
    {
      "cell_type": "code",
      "source": [
        ""
      ],
      "metadata": {
        "id": "abVtyOOh-Vjf"
      },
      "execution_count": null,
      "outputs": []
    },
    {
      "cell_type": "code",
      "source": [
        ""
      ],
      "metadata": {
        "id": "A7aklem0-jQm"
      },
      "execution_count": null,
      "outputs": []
    },
    {
      "cell_type": "code",
      "source": [
        ""
      ],
      "metadata": {
        "id": "eJKQE3dN-kXc"
      },
      "execution_count": null,
      "outputs": []
    },
    {
      "cell_type": "markdown",
      "source": [
        "Gradient descent land global temperature anomlay dataset\n"
      ],
      "metadata": {
        "id": "pc6gIxbf-lF0"
      }
    },
    {
      "cell_type": "code",
      "source": [
        "#single linear regression을 공부할 때 사용했던 데이터를 불러와서 실습해보자.\n",
        "from urllib.request import urlretrieve\n",
        "URL = 'http://go.gwu.edu/engcomp1data5?accessType=DOWNLOAD'\n",
        "urlretrieve(URL, 'land_global_temperature_anomaly-1880-2016.csv')"
      ],
      "metadata": {
        "id": "2SEAajIG-jgz"
      },
      "execution_count": null,
      "outputs": []
    },
    {
      "cell_type": "code",
      "source": [
        "import numpy as np\n",
        "import pandas as pd\n",
        "import sympy"
      ],
      "metadata": {
        "id": "PxFBYHHi-2xE"
      },
      "execution_count": null,
      "outputs": []
    },
    {
      "cell_type": "code",
      "source": [
        "fname = '/content/land_global_temperature_anomaly-1880-2016.csv'\n",
        "\n",
        "#txt 데이터 불러오기\n",
        "year, temp_anomaly = np.loadtxt(fname, delimiter=',', skiprows=5, unpack=True)"
      ],
      "metadata": {
        "id": "XhvRtMOi-7QE"
      },
      "execution_count": null,
      "outputs": []
    },
    {
      "cell_type": "code",
      "source": [
        "temp_anomaly"
      ],
      "metadata": {
        "id": "1RVgIgtC_GPI"
      },
      "execution_count": null,
      "outputs": []
    },
    {
      "cell_type": "code",
      "source": [
        "#시각화하여 확인해보자.\n",
        "from matplotlib import pyplot\n",
        "%matplotlib inline"
      ],
      "metadata": {
        "id": "lQYqnDWJ_G-B"
      },
      "execution_count": null,
      "outputs": []
    },
    {
      "cell_type": "code",
      "source": [
        "pyplot.rc('font', family = 'serif', size = '18')\n",
        "\n",
        "#이미지 사이즈 설정\n",
        "pyplot.figure(figsize = (10,5))\n",
        "\n",
        "#plot을 그려보자\n",
        "pyplot.plot(year, temp_anomaly, color = '#2929a3', linestyle = '-', linewidth=1)\n",
        "pyplot.title('Land global temperature anomalies, \\n')\n",
        "pyplot.xlabel('Year')\n",
        "pyplot.ylabel('Land temperature anomaly [ C]')\n",
        "pyplot.grid();                                            #grid를 없애줌"
      ],
      "metadata": {
        "id": "23eAQR0z_cGE"
      },
      "execution_count": null,
      "outputs": []
    },
    {
      "cell_type": "code",
      "source": [
        "#gradient descent 방법으로 진행해보자.\n",
        "\n",
        "#먼저 cost function을 정의해보자\n",
        "w, b, x, y = sympy.symbols('w b x y')\n",
        "\n",
        "cost_function = (w*x + b - y)**2\n",
        "cost_function"
      ],
      "metadata": {
        "id": "IhRKwSOfAA9O"
      },
      "execution_count": null,
      "outputs": []
    },
    {
      "cell_type": "code",
      "source": [
        "grad_b = sympy.lambdify([w,b,x,y], cost_function.diff(b), 'numpy')\n",
        "grad_w = sympy.lambdify([w,b,x,y], cost_function.diff(w), 'numpy')"
      ],
      "metadata": {
        "id": "XPx_fHzYAZkv"
      },
      "execution_count": null,
      "outputs": []
    },
    {
      "cell_type": "code",
      "source": [
        "w=0\n",
        "b=0\n",
        "\n",
        "for i in range(1000):\n",
        "    descent_b = np.sum(grad_b(w,b,year,temp_anomaly))/len(year)\n",
        "    descent_w = np.sum(grad_w(w,b,year,temp_anomaly))/len(year)\n",
        "    w = w - descent_w*0.001\n",
        "    b = b - descent_b*0.001\n",
        "\n",
        "print(w)\n",
        "print(b)"
      ],
      "metadata": {
        "id": "cXQNt5wvAtkb"
      },
      "execution_count": null,
      "outputs": []
    },
    {
      "cell_type": "code",
      "source": [
        "#params가 발산했다.이번에도 scaleing이 필요하다. \n",
        "#이번에는 mean normalization을 사용해보자.\n",
        "year_scaled = (year - year.mean())/year.std()\n",
        "temp_anomaly_scaled = (temp_anomaly - temp_anomaly.mean()) / temp_anomaly.std()"
      ],
      "metadata": {
        "id": "nc6TAP6_BFz1"
      },
      "execution_count": null,
      "outputs": []
    },
    {
      "cell_type": "code",
      "source": [
        "#이제 다시 gradient descent를 진행해보자.\n",
        "w=0\n",
        "b=0\n",
        "\n",
        "for i in range(1000):\n",
        "    descent_b = np.sum(grad_b(w,b,year_scaled,temp_anomaly_scaled))/len(year_scaled)\n",
        "    descent_w = np.sum(grad_w(w,b,year_scaled,temp_anomaly_scaled))/len(year_scaled)\n",
        "    w = w - descent_w*0.001\n",
        "    b = b - descent_b*0.001\n",
        "\n",
        "print(w)                      #0.75\n",
        "print(b)                      #5.55"
      ],
      "metadata": {
        "id": "vZpvglguBfuU"
      },
      "execution_count": null,
      "outputs": []
    },
    {
      "cell_type": "code",
      "source": [
        ""
      ],
      "metadata": {
        "id": "tz6wG5eKBqtb"
      },
      "execution_count": null,
      "outputs": []
    },
    {
      "cell_type": "code",
      "source": [
        "#params를 전부 구했다. 이제 다시 시각화해보자.\n",
        "reg = b + w*year_scaled"
      ],
      "metadata": {
        "id": "cwpyQi7bB6DC"
      },
      "execution_count": null,
      "outputs": []
    },
    {
      "cell_type": "code",
      "source": [
        "pyplot.plot(year_scaled, temp_anomaly_scaled, color='#2929a3', linestyle='-', linewidth=1, alpha=0.5) \n",
        "pyplot.plot(year_scaled, reg, 'k--', linewidth=2, label='Linear regression')\n",
        "pyplot.xlabel('Year')\n",
        "pyplot.ylabel('Land temperature anomaly [°C]')\n",
        "pyplot.legend(loc='best', fontsize=15)\n",
        "pyplot.grid();"
      ],
      "metadata": {
        "id": "L4emh59fCDNc"
      },
      "execution_count": null,
      "outputs": []
    },
    {
      "cell_type": "code",
      "source": [
        ""
      ],
      "metadata": {
        "id": "wWC02ioYCJGx"
      },
      "execution_count": null,
      "outputs": []
    }
  ]
}
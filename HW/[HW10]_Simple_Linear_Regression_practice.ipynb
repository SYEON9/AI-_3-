{
  "nbformat": 4,
  "nbformat_minor": 0,
  "metadata": {
    "colab": {
      "name": "[HW10] Simple Linear Regression_practice",
      "private_outputs": true,
      "provenance": [],
      "authorship_tag": "ABX9TyP1Nm6GyyU1OMEoBsorgNho",
      "include_colab_link": true
    },
    "kernelspec": {
      "name": "python3",
      "display_name": "Python 3"
    },
    "language_info": {
      "name": "python"
    }
  },
  "cells": [
    {
      "cell_type": "markdown",
      "metadata": {
        "id": "view-in-github",
        "colab_type": "text"
      },
      "source": [
        "<a href=\"https://colab.research.google.com/github/SYEON9/natural_language_3th/blob/main/HW/%5BHW10%5D_Simple_Linear_Regression_practice.ipynb\" target=\"_parent\"><img src=\"https://colab.research.google.com/assets/colab-badge.svg\" alt=\"Open In Colab\"/></a>"
      ]
    },
    {
      "cell_type": "code",
      "execution_count": null,
      "metadata": {
        "id": "SFgOm30l8CJL"
      },
      "outputs": [],
      "source": [
        "#우리는 선형회귀(y = wx+b)에서 cost function을 최소로 하는 w와 b를 찾아야 한다. \n",
        "#cost function은 2차함수로 나타나고 2차함수의 최솟값은 미분한 값이 0일 때 성립합니다.\n"
      ]
    },
    {
      "cell_type": "code",
      "source": [
        "#다음 식의 최솟값을 찾아보자\n",
        "import sympy\n",
        "import numpy\n",
        " \n",
        "from matplotlib import pyplot    \n",
        "%matplotlib inline                   #ipython에서만 제공하는 rich output. 실행한 브라우저에서 바로 그림을 볼 수 있게 함."
      ],
      "metadata": {
        "id": "zKv5eNvOLJBO"
      },
      "execution_count": null,
      "outputs": []
    },
    {
      "cell_type": "code",
      "source": [
        "sympy.init_printing()                #수식을 LaTex 스타일로 표시한다. "
      ],
      "metadata": {
        "id": "KXzMYjDCLO5l"
      },
      "execution_count": null,
      "outputs": []
    },
    {
      "cell_type": "code",
      "source": [
        "#sympy: 기호기반 수학 라이브러리. 그러므로 변수를 기호로 먼저 선언해야 한다. \n",
        "w = sympy.Symbol('w', real=True)    #기호 선언\n",
        "\n",
        "f = w**2 + 3*w - 5\n",
        "f"
      ],
      "metadata": {
        "id": "kESNhmAaLZe0"
      },
      "execution_count": null,
      "outputs": []
    },
    {
      "cell_type": "code",
      "source": [
        "sympy.plotting.plot(f)"
      ],
      "metadata": {
        "id": "rQukUE9nMEB0"
      },
      "execution_count": null,
      "outputs": []
    },
    {
      "cell_type": "code",
      "source": [
        "#미분해보자.\n",
        "fprime = f.diff(w)\n",
        "fprime"
      ],
      "metadata": {
        "id": "hHhK6X-rMKB6"
      },
      "execution_count": null,
      "outputs": []
    },
    {
      "cell_type": "code",
      "source": [
        "#해당 식의 해를 구해보자. \n",
        "#즉, 미분한 값이 0이 되도록 하는 w를 구하자. \n",
        "sympy.solve(fprime, w)"
      ],
      "metadata": {
        "id": "KTwcjY_PMRFL"
      },
      "execution_count": null,
      "outputs": []
    },
    {
      "cell_type": "code",
      "source": [
        ""
      ],
      "metadata": {
        "id": "KOXO8GNGMaS_"
      },
      "execution_count": null,
      "outputs": []
    },
    {
      "cell_type": "code",
      "source": [
        ""
      ],
      "metadata": {
        "id": "5zoCVMjsMgbD"
      },
      "execution_count": null,
      "outputs": []
    },
    {
      "cell_type": "code",
      "source": [
        "#이번에는 gradient descent이다!!!\n",
        "#아까처럼 바로 정답에 접근하는 것이 아니라 반복적으로 정답에 가까워지는 방법이다. \n",
        "\n",
        "#먼저 기울기값을 구하는 함수를 먼저 만들어보자.\n",
        "#함수정의\n",
        "fpnum = sympy.lambdify(w, fprime)               #sympy.lambdify(): numpy / sympy를 변환해주는 명령어\n",
        "type(fpnum)"
      ],
      "metadata": {
        "id": "pq-l-wFYMgi5"
      },
      "execution_count": null,
      "outputs": []
    },
    {
      "cell_type": "code",
      "source": [
        "w = 10.0                                       #초기값 설정\n",
        "\n",
        "#gradient descent\n",
        "for i in range(1000):\n",
        "    w = w - fpnum(w)*0.01                      # a - lr*cost_function\n",
        "\n",
        "print(w)"
      ],
      "metadata": {
        "id": "K4XM3csIM0wh"
      },
      "execution_count": null,
      "outputs": []
    },
    {
      "cell_type": "code",
      "source": [
        ""
      ],
      "metadata": {
        "id": "LB1_zEt-NLZo"
      },
      "execution_count": null,
      "outputs": []
    },
    {
      "cell_type": "code",
      "source": [
        ""
      ],
      "metadata": {
        "id": "6P0MhpitOZBf"
      },
      "execution_count": null,
      "outputs": []
    },
    {
      "cell_type": "code",
      "source": [
        "#cost를 최소화하는 방법을 알았으니 이번에는 linear regression을 구현해보자. \n",
        "\n",
        "#실제로 linear한 관계를 가진 데이터 셋을 사용하기 위해서 데이터를 만들자!!\n",
        "x_data = numpy.linspace(-5,5,100)\n",
        "w_true = 2\n",
        "b_true = 20\n",
        "\n",
        "#y를 생성할 때, 노이즈를 추가하여 데이터가 선형을 띄지만 완전 직선은 아니게 만든다. \n",
        "y_data = w_true*x_data + b_true + numpy.random.normal(size = len(x_data))\n",
        "\n",
        "pyplot.scatter(x_data, y_data);"
      ],
      "metadata": {
        "id": "33ojV7fdOZPC"
      },
      "execution_count": null,
      "outputs": []
    },
    {
      "cell_type": "code",
      "source": [
        "x_data.shape                #feature가 1인 데이터"
      ],
      "metadata": {
        "id": "irRsW8ArPAXu"
      },
      "execution_count": null,
      "outputs": []
    },
    {
      "cell_type": "code",
      "source": [
        "y_data.shape               #생성된 총 데이터의 수는 100개이다. "
      ],
      "metadata": {
        "id": "on3W1rzDPEED"
      },
      "execution_count": null,
      "outputs": []
    },
    {
      "cell_type": "code",
      "source": [
        "#cost function을 나타내보자,\n",
        "w, b, x, y = sympy.symbols('w b x y')\n",
        "\n",
        "cost_function = (w*2 + b - y)**2\n",
        "cost_function"
      ],
      "metadata": {
        "id": "Kikw3N7APIVa"
      },
      "execution_count": null,
      "outputs": []
    },
    {
      "cell_type": "code",
      "source": [
        "#바로 해당하는 값을 구해보자.\n",
        "#sympy.solve(cost_function, w, b)"
      ],
      "metadata": {
        "id": "z1aWz3F5PgP0"
      },
      "execution_count": null,
      "outputs": []
    },
    {
      "cell_type": "code",
      "source": [
        "#gradient descent로 구해보자\n",
        "\n",
        "#1.기울기 함수 정의\n",
        "grad_b = sympy.lambdify([w,b,x,y], cost_function.diff(b), 'numpy')   #b에 대해 편미분\n",
        "grad_w = sympy.lambdify([w,b,x,y], cost_function.diff(w), 'numpy')   #w에 대해 편미분"
      ],
      "metadata": {
        "id": "1b84R2pAP2n1"
      },
      "execution_count": null,
      "outputs": []
    },
    {
      "cell_type": "code",
      "source": [
        "#2. 초기값 정의\n",
        "w = 0\n",
        "b = 0"
      ],
      "metadata": {
        "id": "0FjGWsHLQS5M"
      },
      "execution_count": null,
      "outputs": []
    },
    {
      "cell_type": "code",
      "source": [
        "#3. gradient descent 방법 적용\n",
        "lr = 0.01\n",
        "\n",
        "for i in range(1000):\n",
        "    descent_b = numpy.sum(grad_b(w,b,x_data,y_data))/len(x_data)\n",
        "    descent_w = numpy.sum(grad_w(w,b,x_data,y_data))/len(x_data)\n",
        "    w = w - descent_w*0.01 # with 0.01 the step size\n",
        "    b = b - descent_b*0.01 \n",
        "\n",
        "\n",
        "print(w)\n",
        "print(b)                      #처음에 정의한 w=2, b=20과 유사한 값이 나와야하는데 왜 차이가 나지?"
      ],
      "metadata": {
        "id": "F3UbrB_7Q9sB"
      },
      "execution_count": null,
      "outputs": []
    },
    {
      "cell_type": "code",
      "source": [
        "pyplot.scatter(x_data, y_data)\n",
        "pyplot.plot(x_data, w*x_data + b, '-r')"
      ],
      "metadata": {
        "id": "O1phPt7iRx5_"
      },
      "execution_count": null,
      "outputs": []
    },
    {
      "cell_type": "code",
      "source": [
        ""
      ],
      "metadata": {
        "id": "-10xTF-2SwDV"
      },
      "execution_count": null,
      "outputs": []
    },
    {
      "cell_type": "code",
      "source": [
        ""
      ],
      "metadata": {
        "id": "UplG5cxNWs1m"
      },
      "execution_count": null,
      "outputs": []
    },
    {
      "cell_type": "code",
      "source": [
        ""
      ],
      "metadata": {
        "id": "MTRC0xvMWtCI"
      },
      "execution_count": null,
      "outputs": []
    },
    {
      "cell_type": "code",
      "source": [
        "#Earth temperature over time\n",
        "#linear regression을 활용하여 시간 흐름에 따른 지구의 온도변화를 분석해보자.\n",
        "#사용할 지표는 global temperature anomaly이다. \n",
        "#temperature anomaly: 기준 온도 이상이면 양수, 이하이면 음수\n",
        "\n",
        "from IPython.display import YouTubeVideo\n",
        "YouTubeVideo('gGOzHVUQCw0')                         #해당 영상을 통해 기온이 점점 상승하고 있다는 것을 알 수 있다. "
      ],
      "metadata": {
        "id": "f9J6zXppWshw"
      },
      "execution_count": null,
      "outputs": []
    },
    {
      "cell_type": "code",
      "source": [
        "#실제 데이터를 사용하여 분석해보자!"
      ],
      "metadata": {
        "id": "2x4rkaqSXI6x"
      },
      "execution_count": null,
      "outputs": []
    },
    {
      "cell_type": "code",
      "source": [
        "#step1: read a data file\n",
        "#데이터 다운로드\n",
        "from urllib.request import urlretrieve\n",
        "URL = 'http://go.gwu.edu/engcomp1data5?accessType=DOWNLOAD'\n",
        "urlretrieve(URL, 'land_global_temperature_anomaly-1880-2016.csv')"
      ],
      "metadata": {
        "id": "_PUXyIajXcKs"
      },
      "execution_count": null,
      "outputs": []
    },
    {
      "cell_type": "code",
      "source": [
        "#데이터 불러오기\n",
        "fname = '/content/land_global_temperature_anomaly-1880-2016.csv'\n",
        "\n",
        "year, temp_anomaly = numpy.loadtxt(fname, delimiter=',', skiprows = 5, unpack=True)"
      ],
      "metadata": {
        "id": "YBp4lIp6XpV7"
      },
      "execution_count": null,
      "outputs": []
    },
    {
      "cell_type": "code",
      "source": [
        ""
      ],
      "metadata": {
        "id": "d2P4XhvFbn1i"
      },
      "execution_count": null,
      "outputs": []
    },
    {
      "cell_type": "code",
      "source": [
        "#Step2: plot the data\n",
        "#데이터 시각화하기\n",
        "from matplotlib import pyplot\n",
        "%matplotlib inline"
      ],
      "metadata": {
        "id": "jGy1pNxfb0SL"
      },
      "execution_count": null,
      "outputs": []
    },
    {
      "cell_type": "code",
      "source": [
        "pyplot.plot(year, temp_anomaly)"
      ],
      "metadata": {
        "id": "MEtTBDh6cDKr"
      },
      "execution_count": null,
      "outputs": []
    },
    {
      "cell_type": "code",
      "source": [
        "#더 보기 좋게 만들어볼까?\n",
        "\n",
        "#폰트 설정\n",
        "pyplot.rc('font', family = 'serif', size='18')\n",
        "\n",
        "#그래프 크기 설정\n",
        "pyplot.figure(figsize = (10,5))\n",
        "\n",
        "#plotting\n",
        "pyplot.plot(year, temp_anomaly, color = '#2929a3', linestyle = '-', linewidth = 1.5)\n",
        "pyplot.title('Land global temperature anomalies. \\n')\n",
        "pyplot.xlabel('Year')\n",
        "pyplot.ylabel('Land temperature anomaly [\\'C]')\n",
        "pyplot.grid();               #격자무늬 설정"
      ],
      "metadata": {
        "id": "6YhruTtZcFMw"
      },
      "execution_count": null,
      "outputs": []
    },
    {
      "cell_type": "code",
      "source": [
        "#Step3: Analytically\n",
        "#먼저 직선 정의\n",
        "w = numpy.sum(temp_anomaly*(year-year.mean())) / numpy.sum(year*(year - year.mean()))\n",
        "b = a_0 = temp_anomaly.mean() - w*year.mean()\n",
        "\n",
        "print(w)\n",
        "print(b)"
      ],
      "metadata": {
        "id": "pzbDa4rqce_S"
      },
      "execution_count": null,
      "outputs": []
    },
    {
      "cell_type": "code",
      "source": [
        "#시각화\n",
        "reg = b + w*year"
      ],
      "metadata": {
        "id": "_F3OpMnJd0Y7"
      },
      "execution_count": null,
      "outputs": []
    },
    {
      "cell_type": "code",
      "source": [
        "pyplot.figure(figsize = (10,5))\n",
        "\n",
        "pyplot.plot(year, temp_anomaly, color = '#2929a3', linestyle = '-', linewidth = 1.5)\n",
        "pyplot.plot(year, reg, 'k--', linewidth = 2, label = 'Linear regression')\n",
        "pyplot.title('Land global temperature anomalies. \\n')\n",
        "pyplot.xlabel('Year')\n",
        "pyplot.ylabel('Land temperature anomaly [\\'C]')\n",
        "pyplot.legend(loc = 'best', fontsize = 15)\n",
        "pyplot.grid();  "
      ],
      "metadata": {
        "id": "p9em9e2peBN3"
      },
      "execution_count": null,
      "outputs": []
    },
    {
      "cell_type": "code",
      "source": [
        ""
      ],
      "metadata": {
        "id": "nXAn5fI1eJ07"
      },
      "execution_count": null,
      "outputs": []
    }
  ]
}
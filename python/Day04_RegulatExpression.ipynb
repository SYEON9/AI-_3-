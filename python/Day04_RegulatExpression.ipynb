{
  "nbformat": 4,
  "nbformat_minor": 0,
  "metadata": {
    "colab": {
      "name": "Day04.RegulatExpression.ipynb",
      "private_outputs": true,
      "provenance": [],
      "authorship_tag": "ABX9TyMmpKEYF6McuirrJkgKtx1x",
      "include_colab_link": true
    },
    "kernelspec": {
      "name": "python3",
      "display_name": "Python 3"
    },
    "language_info": {
      "name": "python"
    }
  },
  "cells": [
    {
      "cell_type": "markdown",
      "metadata": {
        "id": "view-in-github",
        "colab_type": "text"
      },
      "source": [
        "<a href=\"https://colab.research.google.com/github/SYEON9/natural_language_3th/blob/main/python/Day04_RegulatExpression.ipynb\" target=\"_parent\"><img src=\"https://colab.research.google.com/assets/colab-badge.svg\" alt=\"Open In Colab\"/></a>"
      ]
    },
    {
      "cell_type": "code",
      "execution_count": null,
      "metadata": {
        "id": "blAq0iIcJsgs"
      },
      "outputs": [],
      "source": [
        "string = \\\n",
        "'''\n",
        "010-1234-1234\n",
        "010-1234-5678\n",
        "+82-10-5678-5678\n",
        "+82-10-4123-1234\n",
        "'''\n",
        "\n",
        "pattern = r'^(?:0|\\+82-)\\d{1,2}-(\\d{3,4})-\\1'"
      ]
    },
    {
      "cell_type": "code",
      "source": [
        "#regular expression practice\n",
        "\n",
        "import re\n",
        "\n",
        "\n",
        "for match in re.finditer(pattern, string, re.MULTILINE):\n",
        "    print(\"전체 문자열\", match.group(0))\n",
        "    print(r\"\\1 문자열\", match.group(1))\n"
      ],
      "metadata": {
        "id": "iu6fQS-NJ5is"
      },
      "execution_count": null,
      "outputs": []
    },
    {
      "cell_type": "code",
      "source": [
        ""
      ],
      "metadata": {
        "id": "JvOxcQs-J2Ee"
      },
      "execution_count": null,
      "outputs": []
    },
    {
      "cell_type": "code",
      "source": [
        "#탐색\n",
        "#처음 매칭되는 문자열을 탐색하자\n",
        "match = re.search(pattern, string, re.MULTILINE)\n",
        "print(match.group(0))"
      ],
      "metadata": {
        "id": "fLRKtkKiKtJD"
      },
      "execution_count": null,
      "outputs": []
    },
    {
      "cell_type": "code",
      "source": [
        "#모든 매칭되는 문자열 탐색\n",
        "for match in re.finditer(pattern, string, re.MULTILINE):  #for문을 사용하여 찾아야한다. \n",
        "    print(match.group(0))      #group(1)은 겹치는 캡쳐된 부분만 보여주는 것 같다. "
      ],
      "metadata": {
        "id": "JVkLGqBmK4w9"
      },
      "execution_count": null,
      "outputs": []
    },
    {
      "cell_type": "code",
      "source": [
        "#매칭되는 패턴 치환\n",
        "rep1 = r'치환된-\\1'            #캡쳐된 패턴을 찾아 해당 부분을 rep1으로 치환한다. \n",
        "print(re.sub(pattern, rep1, string, flags = re.MULTILINE))"
      ],
      "metadata": {
        "id": "inBNA2RSLEGJ"
      },
      "execution_count": null,
      "outputs": []
    },
    {
      "cell_type": "code",
      "source": [
        "#매칭되는 패턴을 기준으로 나누기\n",
        "splited = re.split(pattern, string, flags = re.MULTILINE)\n",
        "print(splited)"
      ],
      "metadata": {
        "id": "AsMHnmT4LtNl"
      },
      "execution_count": null,
      "outputs": []
    },
    {
      "cell_type": "code",
      "source": [
        ""
      ],
      "metadata": {
        "id": "fl86dEHKMC5f"
      },
      "execution_count": null,
      "outputs": []
    },
    {
      "cell_type": "code",
      "source": [
        "#정규표현식을 최적화\n",
        "\n",
        "#정규표현식을 평가하는 것은 오래 걸림\n",
        "match = re.search(pattern, string, re.MULTILINE)\n",
        "print(match.group(0))\n",
        "\n",
        "#그러므로 정규표현식을 미리 컴파일해두면 훨씬 빠르게 수행할 수 있다.\n",
        "compiled = re.compile(pattern, flags = re.MULTILINE)\n",
        "\n",
        "match = compiled.search(string)\n",
        "print(match.group(0))\n"
      ],
      "metadata": {
        "id": "0C6AUNSkMFim"
      },
      "execution_count": null,
      "outputs": []
    },
    {
      "cell_type": "code",
      "source": [
        ""
      ],
      "metadata": {
        "id": "TUpQVXIpMwTq"
      },
      "execution_count": null,
      "outputs": []
    }
  ]
}
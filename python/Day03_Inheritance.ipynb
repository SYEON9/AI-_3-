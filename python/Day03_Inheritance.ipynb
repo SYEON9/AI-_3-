{
  "nbformat": 4,
  "nbformat_minor": 0,
  "metadata": {
    "colab": {
      "name": "Day03.Inheritance.ipynb",
      "private_outputs": true,
      "provenance": [],
      "authorship_tag": "ABX9TyO1nJjkEy2O1EdtuBi30m/b",
      "include_colab_link": true
    },
    "kernelspec": {
      "name": "python3",
      "display_name": "Python 3"
    },
    "language_info": {
      "name": "python"
    }
  },
  "cells": [
    {
      "cell_type": "markdown",
      "metadata": {
        "id": "view-in-github",
        "colab_type": "text"
      },
      "source": [
        "<a href=\"https://colab.research.google.com/github/SYEON9/natural_language_3th/blob/main/python/Day03_Inheritance.ipynb\" target=\"_parent\"><img src=\"https://colab.research.google.com/assets/colab-badge.svg\" alt=\"Open In Colab\"/></a>"
      ]
    },
    {
      "cell_type": "code",
      "execution_count": null,
      "metadata": {
        "id": "cUtcofayNnbP"
      },
      "outputs": [],
      "source": [
        "#클래스에서 정적 메소드와 클래스 메소드에 대해 알아보자.\n",
        "class Number:\n",
        "    Constant = 10      #클래스 속성(class attribute)\n",
        "\n",
        "    @staticmethod\n",
        "    def static_factory():            #특별 argument를 받지 않음\n",
        "        obj = Number()               #class Number를 고정적으로 받음\n",
        "        obj.value = Number.Constant\n",
        "        return obj\n",
        "\n",
        "    @classmethod\n",
        "    def class_factory(cls):          #cls로 class를 받는다. \n",
        "        obj = cls()                  #받을 class를 선택할 수 있다.\n",
        "        obj.value = cls.Constant     #class의 클래스 속성을 넣는다. \n",
        "        return obj\n",
        "\n",
        "number_static = Number.static_factory()\n",
        "number_class = Number.class_factory()\n",
        "print(number_static.value, number_class.value)    #이것으로는 차이가 없지만 상속할 때 차이가 발생한다. "
      ]
    },
    {
      "cell_type": "code",
      "source": [
        "#상속: 기존에 구현된 틀을 상속받아 새로운 틀을 만드는 것\n",
        "#다형성: 같은 이름의 메소드를 다르게 작성하는 것(오버라이딩)->각각의 자식 클래스가 같은 이름의 다른 메소드를 가질 수 있음.\n",
        "\n",
        "#부모 클래스\n",
        "class Student:\n",
        "    def __init__(self, name:str, sid:int):\n",
        "        self.name = name\n",
        "        self.sid = sid\n",
        "        self.classes = []\n",
        "\n",
        "    \n",
        "    #문자열을 반환할 때 아래 형태를 return 한다.\n",
        "    def __str__(self):  \n",
        "        return self.name + \"_\" + str(self.sid)\n",
        "\n",
        "    def take_class(self, class_name:str)->None:\n",
        "        self.classes.append(class_name)\n",
        "\n",
        "\n",
        "#자식 클래스\n",
        "class Master(Student):                                            #Student 상속\n",
        "    def __init__(self, name:str, sid:int, professor: str):        \n",
        "        super().__init__(name, sid)                               #부모 클래스 생성자에 접근한다. 이렇게 해야 부모 생성자의 속성을 그대로 가져와 정의할 수 있따. \n",
        "        self.professor = professor                                #추가적으로 정의\n",
        "    \n",
        "    def __str__(self):                                            #__init__ 재정의 -> 다형성\n",
        "        return super().__str__() + \"_\" + str(self.professor)  \n",
        "\n",
        "master = Master('Suyeon Kim', 20181466, \"Jeghun Kim\")\n",
        "print(master)\n",
        "print(super(Master, master).__str__())                            #super(class, object): 해당 클래스의 부모 클래스로 객체를 변환해서 사용하겠다. "
      ],
      "metadata": {
        "id": "ajkau9yWVuIb"
      },
      "execution_count": null,
      "outputs": []
    },
    {
      "cell_type": "code",
      "source": [
        "#가시성(visibility)\n",
        "#python은 사용자에게 모델의 내부를 감추려고 한다. \n",
        "#명시적인 private&protected->public\n",
        "#private 앞에 \"__\"\n",
        "#proected 앞에 \"_\"\n",
        "\n",
        "\n",
        "class Testclass(object):\n",
        "    def __init__(self):\n",
        "        self.attr = 1          #public\n",
        "        self._attr = 2         #protected\n",
        "        self.__attr = 3        #private\n",
        "\n",
        "instance = Testclass()\n",
        "print(dir(instance))           #dir()을 통해 함수를 확인할 수 있음. 그러나 다들 외부에서 접근할 수 있어서  public과 기능 차이가 없음. "
      ],
      "metadata": {
        "id": "gtFbz9uVYGcQ"
      },
      "execution_count": null,
      "outputs": []
    },
    {
      "cell_type": "code",
      "source": [
        ""
      ],
      "metadata": {
        "id": "VVlZqPCogqvC"
      },
      "execution_count": null,
      "outputs": []
    }
  ]
}
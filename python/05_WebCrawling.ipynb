{
  "nbformat": 4,
  "nbformat_minor": 0,
  "metadata": {
    "colab": {
      "name": "05_WebCrawling.ipynb",
      "private_outputs": true,
      "provenance": [],
      "authorship_tag": "ABX9TyMq3nVFf9jTQ3jZuJaAOShQ",
      "include_colab_link": true
    },
    "kernelspec": {
      "name": "python3",
      "display_name": "Python 3"
    },
    "language_info": {
      "name": "python"
    }
  },
  "cells": [
    {
      "cell_type": "markdown",
      "metadata": {
        "id": "view-in-github",
        "colab_type": "text"
      },
      "source": [
        "<a href=\"https://colab.research.google.com/github/SYEON9/natural_language_3th/blob/main/python/05_WebCrawling.ipynb\" target=\"_parent\"><img src=\"https://colab.research.google.com/assets/colab-badge.svg\" alt=\"Open In Colab\"/></a>"
      ]
    },
    {
      "cell_type": "code",
      "execution_count": null,
      "metadata": {
        "id": "F1-Jk0W284FX"
      },
      "outputs": [],
      "source": [
        "import requests"
      ]
    },
    {
      "cell_type": "code",
      "source": [
        "URL = 'https://www.naver.com'\n",
        "response = requests.get(URL)              #GET으로 접근\n",
        "\n",
        "#print(response.status_code)\n",
        "#print(response.text)"
      ],
      "metadata": {
        "id": "GJ3sEbFN9BvW"
      },
      "execution_count": null,
      "outputs": []
    },
    {
      "cell_type": "code",
      "source": [
        "#서버가 연결된 것을 확인했으니 네이버 스포츠 뉴스 기사 제목을 크롤링해보자\n",
        "\n",
        "import requests\n",
        "from bs4 import BeautifulSoup\n",
        "\n",
        "URL = \"https://sports.news.naver.com/index\"\n",
        "respones = requests.get(URL)\n",
        "\n",
        "soup = BeautifulSoup(\n",
        "    response.text,\n",
        "    'html.parser'\n",
        ")\n",
        "\n",
        "headline = soup.find(name = 'ul', attrs = {'class':'today_list'})\n",
        "for title in headline.find_all(name = 'strong', attrs = {'class':'title'}):\n",
        "    print(title.string)"
      ],
      "metadata": {
        "id": "N_Z4_lpn9Zi-"
      },
      "execution_count": null,
      "outputs": []
    },
    {
      "cell_type": "code",
      "source": [
        ""
      ],
      "metadata": {
        "id": "ku-OFKRQEHgx"
      },
      "execution_count": null,
      "outputs": []
    }
  ]
}
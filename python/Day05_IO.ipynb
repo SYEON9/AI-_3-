{
  "nbformat": 4,
  "nbformat_minor": 0,
  "metadata": {
    "colab": {
      "name": "Day05_IO.ipynb",
      "private_outputs": true,
      "provenance": [],
      "collapsed_sections": [],
      "authorship_tag": "ABX9TyOjlsM0hIa/LiTtcok01Xxq",
      "include_colab_link": true
    },
    "kernelspec": {
      "name": "python3",
      "display_name": "Python 3"
    },
    "language_info": {
      "name": "python"
    }
  },
  "cells": [
    {
      "cell_type": "markdown",
      "metadata": {
        "id": "view-in-github",
        "colab_type": "text"
      },
      "source": [
        "<a href=\"https://colab.research.google.com/github/SYEON9/natural_language_3th/blob/main/python/Day05_IO.ipynb\" target=\"_parent\"><img src=\"https://colab.research.google.com/assets/colab-badge.svg\" alt=\"Open In Colab\"/></a>"
      ]
    },
    {
      "cell_type": "code",
      "execution_count": null,
      "metadata": {
        "id": "HmTo8mwJhqNg"
      },
      "outputs": [],
      "source": [
        "#표준 입출력: 콘솔창에서 실행. redirection도 가능하다\n",
        "print(\"This\", \"Sentence\")\n",
        "print(\"This\", \"Sentence\", sep = ',')         #구분자는 default = ' '이고 여기서는 ','으로 설정함."
      ]
    },
    {
      "cell_type": "code",
      "source": [
        "var = input()                                #input()을 사용하면 실행 후 입력할 수 있다. 입력에 정해진 데이터형은 없다. "
      ],
      "metadata": {
        "id": "cIWIriCEiVm6"
      },
      "execution_count": null,
      "outputs": []
    },
    {
      "cell_type": "code",
      "source": [
        ""
      ],
      "metadata": {
        "id": "Q3MkBefGi542"
      },
      "execution_count": null,
      "outputs": []
    },
    {
      "cell_type": "code",
      "source": [
        "#파일 읽고 쓰기\n",
        "#os 모듈으리 도움이 필요하고 os는 File Descriptor를 제공하여 open 내장함수를 사용할 수 있게 돕는다. \n",
        "\n",
        "#fd = open(\"<파일이름>\",\"<접근모드>\",encoding = 'uft8')\n",
        "#fd.close()    꼭 써줘야함\n",
        "\n",
        "\n",
        "import os\n",
        "\n",
        "\n",
        "\n",
        "#파일 쓰기\n",
        "path = '/content/sample_data'\n",
        "\n",
        "with open('/content/sample_data/text.txt', 'w') as fd:\n",
        "    for i in range(10):\n",
        "        fd.write(f\"{i+1}번째 문장\\n\")"
      ],
      "metadata": {
        "id": "CUknqfTxi7ST"
      },
      "execution_count": null,
      "outputs": []
    },
    {
      "cell_type": "code",
      "source": [
        "#메소드를 사용해서 여러 줄을 작성할 수 있다. \n",
        "with open('text.txt','w') as fd:\n",
        "    fd.writelines(f\"{i+1}번째 줄입니다.\\n\" for i in range(10))"
      ],
      "metadata": {
        "id": "pXW2ENrI-__x"
      },
      "execution_count": null,
      "outputs": []
    },
    {
      "cell_type": "code",
      "source": [
        "#추가하기로 파일 뒤에 덧붙이기 가능!\n",
        "with open('text.txt','a') as fd:\n",
        "    fd.write(\"내용을 추가합니다.\\n\")\n",
        "    fd.writelines(f\"{i+1}번째 줄입니다\\n\" for i in range(i, i+10))"
      ],
      "metadata": {
        "id": "UfAZxEMq_Aca"
      },
      "execution_count": null,
      "outputs": []
    },
    {
      "cell_type": "code",
      "source": [
        "#파일 읽기\n",
        "fd = open(\"text.txt\",'r')\n",
        "contents = fd.read()                       #파일 전체 읽기\n",
        "fd.close()\n",
        "\n",
        "print(contents)"
      ],
      "metadata": {
        "id": "gO7AO_Pv8Yai"
      },
      "execution_count": null,
      "outputs": []
    },
    {
      "cell_type": "code",
      "source": [
        "#block으로 만들어서 close 자동화 하기\n",
        "with open('sample_data/text.txt','r') as fd:\n",
        "    contents = fd.read()\n",
        "    \n",
        "print(contents)"
      ],
      "metadata": {
        "id": "MIv1MRC-9eG8"
      },
      "execution_count": null,
      "outputs": []
    },
    {
      "cell_type": "code",
      "source": [
        "#이번에는 줄 단위로 잘라서 읽어보자\n",
        "contents = []                      #한줄씩 넣을 빈 리스트 생성!\n",
        "\n",
        "#단, 이 경우 \\n도 그대로 들어간다.\n",
        "with open('sample_data/text.txt','r') as fd:\n",
        "    for sentence in fd:\n",
        "        contents.append(sentence)\n",
        "\n",
        "print(contents)"
      ],
      "metadata": {
        "id": "IwJMevBP96BD"
      },
      "execution_count": null,
      "outputs": []
    },
    {
      "cell_type": "code",
      "source": [
        "#이 과정을 간단하게 만들 수 있다.->readlines() 사용\n",
        "with open('sample_data/text.txt','r') as fd:        #마찬가지로 \\n은 그대로 출력된다. \n",
        "    contents = fd.readlines()\n",
        "\n",
        "print(contents)"
      ],
      "metadata": {
        "id": "9mlmnQKO-UKF"
      },
      "execution_count": null,
      "outputs": []
    },
    {
      "cell_type": "code",
      "source": [
        ""
      ],
      "metadata": {
        "id": "e_Bo3ZDc-xFj"
      },
      "execution_count": null,
      "outputs": []
    },
    {
      "cell_type": "code",
      "source": [
        ""
      ],
      "metadata": {
        "id": "cd1KhLJvAX1r"
      },
      "execution_count": null,
      "outputs": []
    },
    {
      "cell_type": "code",
      "source": [
        "#디렉토리 생성\n",
        "#os라이브러리로 플랫폼 독립적인 폴더를 생성할 수 있다. \n",
        "    #폴더를 표현할 때에는 모두 \"/\"로 만든다.\n",
        "\n",
        "import os\n",
        "\n",
        "os.mkdir(\"test\")\n",
        "\n",
        "if not os.path.isdir('test'):\n",
        "    os.mkdir('test')"
      ],
      "metadata": {
        "id": "LiVzjtilAXVu"
      },
      "execution_count": null,
      "outputs": []
    },
    {
      "cell_type": "code",
      "source": [
        "#이번에는 하위폴더를 한번에 만들어보자.\n",
        "os.makedirs('test/a/b/c', exist_ok = True)"
      ],
      "metadata": {
        "id": "ay9w2c4pAwYc"
      },
      "execution_count": null,
      "outputs": []
    },
    {
      "cell_type": "code",
      "source": [
        ""
      ],
      "metadata": {
        "id": "50uCE3d2A8k2"
      },
      "execution_count": null,
      "outputs": []
    },
    {
      "cell_type": "code",
      "source": [
        "#이번에는 폴더를 검색해보자.\n",
        "#listdir 함수로 실행\n",
        "print([entry for entry in os.listdir('test')])\n",
        "print(*[entry for entry in os.listdir('test')])"
      ],
      "metadata": {
        "id": "GaIluYJKA_XO"
      },
      "execution_count": null,
      "outputs": []
    },
    {
      "cell_type": "code",
      "source": [
        "#glob을 사용하여 유닉스 스타일 경로명 패턴 확장을 적용해보자\n",
        "import glob\n",
        "\n",
        "print(*[entry for entry in glob.glob('test/*txt')])"
      ],
      "metadata": {
        "id": "YbJiVFamdAP6"
      },
      "execution_count": null,
      "outputs": []
    },
    {
      "cell_type": "code",
      "source": [
        "with open('test/a.txt','w') as fd:\n",
        "    fd.writelines(f\"{i+1}번째 줄입니다\\n\" for i in range(10))"
      ],
      "metadata": {
        "id": "WX_yjoxBdW78"
      },
      "execution_count": null,
      "outputs": []
    },
    {
      "cell_type": "code",
      "source": [
        ""
      ],
      "metadata": {
        "id": "fjvpUo2VeGmF"
      },
      "execution_count": null,
      "outputs": []
    },
    {
      "cell_type": "code",
      "source": [
        "#이번에는 파이썬 객체를 그대로 저장하고 싶다-> \"pickle\"\n",
        "#객체를 직렬화하여 파일로 저장한다.\n",
        "#사용하기 쉽고 파이썬 객체를 그대로 저장한다는 장점이 있지만\n",
        "#파이썬에서만 읽을 수 있고 보안 문제가 발생할 수 있다. \n",
        "\n",
        "import pickle\n",
        "\n",
        "seq = [[i*j for j in range(100)] for i in range(100)]                           #저장하고 싶은 객체. 객체는 바이너리 형태\n",
        "\n",
        "with open(\"test.pkl\",'wb') as fd:\n",
        "    pickle.dump(seq, fd)                                                        #객체 저장\n",
        "\n",
        "del seq                                                                         #객체 삭제.\n",
        "\n",
        "with open('test.pkl', 'rb') as fd:                                              \n",
        "    seq = pickle.load(fd)                                                       #객체 불러오기\n",
        "\n",
        "print(seq[12][9])\n"
      ],
      "metadata": {
        "id": "N2uJasU4kBN-"
      },
      "execution_count": null,
      "outputs": []
    },
    {
      "cell_type": "code",
      "source": [
        "#이번에는 클래스를 pickling해볼까?\n",
        "\n",
        "import pickle\n",
        "\n",
        "class MyComplex:\n",
        "    def __inint__(self, real, imaginary):\n",
        "        self.real = real\n",
        "        self.imaginary = imaginary\n",
        "    \n",
        "    def __add__(self, other):\n",
        "        return MyComplex(\n",
        "            self.real+other.real,\n",
        "            self.imaginary+other.imaginary\n",
        "        )"
      ],
      "metadata": {
        "id": "AomYP1RwlPp5"
      },
      "execution_count": null,
      "outputs": []
    },
    {
      "cell_type": "code",
      "source": [
        "my_complex = MyComplex(3, -5)\n",
        "\n",
        "with open('test.pkl', 'wb') as fd:\n",
        "    pickle.dump(my_complex, fd)\n",
        "\n",
        "del my_complex\n",
        "\n",
        "\n",
        "with open(\"test.pkl\", 'rb') as fd:\n",
        "    my_complex = pickle.load(fd)\n",
        "\n",
        "del MyComplex                                           #class삭제. 저장된 객체를 로드하려면 미리 해당 클래스를 선언해야함\n"
      ],
      "metadata": {
        "id": "-U9OpMj4sGtI"
      },
      "execution_count": null,
      "outputs": []
    },
    {
      "cell_type": "code",
      "source": [
        ""
      ],
      "metadata": {
        "id": "IImddNcJtyx3"
      },
      "execution_count": null,
      "outputs": []
    },
    {
      "cell_type": "code",
      "source": [
        ""
      ],
      "metadata": {
        "id": "7uHnIexnty9e"
      },
      "execution_count": null,
      "outputs": []
    },
    {
      "cell_type": "code",
      "source": [
        "#이번에는 csv파일의 입출력을 알아보자.\n",
        "\n",
        "import csv\n",
        "with open('test.csv','w') as fd:\n",
        "    writer = csv.writer(fd)\n",
        "    writer.writerow(['id','label'])\n",
        "    writer.writerows([I, f'label_{I}'] for I in range(10))"
      ],
      "metadata": {
        "id": "idKjK0PJs3eR"
      },
      "execution_count": null,
      "outputs": []
    },
    {
      "cell_type": "code",
      "source": [
        "#불러와볼까?\n",
        "with open('test.csv','r') as fd:\n",
        "    reader = csv.reader(fd)\n",
        "\n",
        "    for entry in reader:           #한 줄 씩 순한\n",
        "        print(entry)               #row를 list 형태로 출력한다. "
      ],
      "metadata": {
        "id": "Vnp3rHBDuVDV"
      },
      "execution_count": null,
      "outputs": []
    },
    {
      "cell_type": "code",
      "source": [
        ""
      ],
      "metadata": {
        "id": "9C84aPGXuzrW"
      },
      "execution_count": null,
      "outputs": []
    },
    {
      "cell_type": "code",
      "source": [
        "#json은 어때?\n",
        "#json파일을 작성해보자.\n",
        "\n",
        "import json\n",
        "\n",
        "#json으로 직렬화 가능한 객체는 원시타입과 자료구조(list, dict)정도이다. \n",
        "obj = {\n",
        "    \"ID\": None, \n",
        "    \"bool\": False,\n",
        "    \"hobbies\": {\n",
        "        \"sports\": [\n",
        "                   \"snowboard\", \"volley-ball\"\n",
        "        ]\n",
        "    }\n",
        "}\n",
        "\n",
        "\n",
        "with open('test.json','w') as fd:\n",
        "    json.dump(obj, fd)                                 #json쓰기"
      ],
      "metadata": {
        "id": "_un5HmNMvFrG"
      },
      "execution_count": null,
      "outputs": []
    },
    {
      "cell_type": "code",
      "source": [
        "#이번에는 읽어와볼까?\n",
        "\n",
        "with open('test.json','r') as fd:\n",
        "    data = json.load(fd)\n",
        "\n",
        "\n",
        "print(data['hobbies'])\n",
        "print(data['hobbies']['sports'][0])\n",
        "print(data)"
      ],
      "metadata": {
        "id": "MzoBXGFJvPqZ"
      },
      "execution_count": null,
      "outputs": []
    },
    {
      "cell_type": "code",
      "source": [
        ""
      ],
      "metadata": {
        "id": "ut2dDskFwB4Y"
      },
      "execution_count": null,
      "outputs": []
    },
    {
      "cell_type": "code",
      "source": [
        ""
      ],
      "metadata": {
        "id": "Iqc5m1ykwgVT"
      },
      "execution_count": null,
      "outputs": []
    },
    {
      "cell_type": "code",
      "source": [
        "#이번에는 크롤링을 해볼까?\n",
        "#파이썬에서는 XML parser가 사용하기 불편해.\n",
        "#그러니까 라이브러리를 사용하자-> beautiful soup을 제알 널리 사용해!!\n",
        "\n",
        "from bs4 import BeautifulSoup\n",
        "\n",
        "with open('test.xml', 'r') as fd:\n",
        "    soup = BeautifulSoup(\n",
        "        fd.read()                                     #parsing할 문자열\n",
        "        'html.parser'                                 #사용할 parser\n",
        "    )\n",
        "\n",
        "to_tag = soup.find(name = 'to')                       #문서 전체에서 'to'태그 찾기\n",
        "print(to_tag.string)                                  #태그 내의 문자열 출력\n",
        "\n",
        "for cite_tag in soup.findAll(name='cite'):            #'cite'태그 모두 찾기\n",
        "    print(cite_tag.string)\n",
        "\n",
        "cites_tag = soup.find(name = 'cites')                 #'cites'태그 찾기\n",
        "print(citse_tag.attrs)                                #'cites' 태그의 모든 속성\n",
        "print(cites_tag['attr'])\n",
        "\n",
        "cites_tag = soup.find(attrs = {'attr':'name'})        #속성으로 태그 찾기\n",
        "for cite_tag in cites_tag.find_all(name = 'cite'):    #태그 내 검색\n",
        "    print(cite_tag.string)"
      ],
      "metadata": {
        "id": "_awiZWhlwgeu"
      },
      "execution_count": null,
      "outputs": []
    },
    {
      "cell_type": "code",
      "source": [
        ""
      ],
      "metadata": {
        "id": "6R2CY8Tkwu2w"
      },
      "execution_count": null,
      "outputs": []
    }
  ]
}
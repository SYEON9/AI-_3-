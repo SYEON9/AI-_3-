{
  "nbformat": 4,
  "nbformat_minor": 0,
  "metadata": {
    "colab": {
      "name": "05_Exception.ipynb",
      "private_outputs": true,
      "provenance": [],
      "authorship_tag": "ABX9TyMxuuB7MO48fOkozguJ/Vxv",
      "include_colab_link": true
    },
    "kernelspec": {
      "name": "python3",
      "display_name": "Python 3"
    },
    "language_info": {
      "name": "python"
    }
  },
  "cells": [
    {
      "cell_type": "markdown",
      "metadata": {
        "id": "view-in-github",
        "colab_type": "text"
      },
      "source": [
        "<a href=\"https://colab.research.google.com/github/SYEON9/natural_language_3th/blob/main/python/05_Exception.ipynb\" target=\"_parent\"><img src=\"https://colab.research.google.com/assets/colab-badge.svg\" alt=\"Open In Colab\"/></a>"
      ]
    },
    {
      "cell_type": "code",
      "execution_count": null,
      "metadata": {
        "id": "ct12rL5Ayxr_"
      },
      "outputs": [],
      "source": [
        "#예외처리에 대해 알아보자.\n",
        "\n",
        "for i in range(5, -5, -2):\n",
        "    try:\n",
        "        value /= i\n",
        "    \n",
        "    except NameError:                              #참조에러 처리. 존재하지 않는 변수를 호출할 때 발생\n",
        "        print(\"No value on Value: Set 0\")\n",
        "        value = 10\n",
        "    \n",
        "    except ZeroDivisionError:                      #0으로 나누었을때 발생\n",
        "        print(\"Zero division: Skip\")\n",
        "\n",
        "    except Exception as e:                         #처리되지 않은 에러를 처리\n",
        "        print(type(e),e)\n",
        "        raise e                                    #처리되지 않은 에러 재발생. 이 경우에는 반복을 멈추고 나가짐\n",
        "\n",
        "    else:\n",
        "        print(value)\n",
        "\n",
        "    finally:                                       #모든 경우에 출력\n",
        "        print(\"Step\") "
      ]
    },
    {
      "cell_type": "code",
      "source": [
        ""
      ],
      "metadata": {
        "id": "oywKFe568Okk"
      },
      "execution_count": null,
      "outputs": []
    }
  ]
}